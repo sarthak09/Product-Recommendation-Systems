{
 "cells": [
  {
   "cell_type": "markdown",
   "metadata": {},
   "source": [
    "#  This notebook is for data exploration and reducing data where user has rated more than 50 product"
   ]
  },
  {
   "cell_type": "markdown",
   "metadata": {},
   "source": [
    "#### Note\n",
    "**This notebook has 3 main steps**\n",
    "\n",
    "1. Exploration of original data : This step consists of various steps such as checking datatypes, describe statement, checking missing values, checking min and max value in rating column, factorplot and unique value of user and product Id of orignal data.\n",
    "\n",
    "2. Reducing data : I have reduced data based on counts of user. Here i counted no of users who have rated 50 above ratings. Then I stored that in new variable so that original data doesn't change and at the end I saved that in new csv file so that I can use that new data in other notebook this saves lots of memory.\n",
    "\n",
    "3. Exploration of reduced new data : This step consists of various steps such as checking datatypes, describe statement, checking missing values, checking min and max value in rating column, factorplot and unique value of user and product Id of new reduced data.\n"
   ]
  },
  {
   "cell_type": "code",
   "execution_count": 1,
   "metadata": {},
   "outputs": [],
   "source": [
    "#importing libs\n",
    "import pandas as pd\n",
    "import numpy as np\n",
    "import matplotlib.pyplot as plt\n",
    "import seaborn as sns\n",
    "%matplotlib inline"
   ]
  },
  {
   "cell_type": "code",
   "execution_count": 2,
   "metadata": {},
   "outputs": [],
   "source": [
    "#Load data with columns externally declared with obj 'col'\n",
    "col=['userId','productId','Rating','Time_Stamp']\n",
    "df1=pd.read_csv('ratings_Electronics.csv', header=None, names=col)"
   ]
  },
  {
   "cell_type": "code",
   "execution_count": 3,
   "metadata": {},
   "outputs": [
    {
     "data": {
      "text/html": [
       "<div>\n",
       "<style scoped>\n",
       "    .dataframe tbody tr th:only-of-type {\n",
       "        vertical-align: middle;\n",
       "    }\n",
       "\n",
       "    .dataframe tbody tr th {\n",
       "        vertical-align: top;\n",
       "    }\n",
       "\n",
       "    .dataframe thead th {\n",
       "        text-align: right;\n",
       "    }\n",
       "</style>\n",
       "<table border=\"1\" class=\"dataframe\">\n",
       "  <thead>\n",
       "    <tr style=\"text-align: right;\">\n",
       "      <th></th>\n",
       "      <th>userId</th>\n",
       "      <th>productId</th>\n",
       "      <th>Rating</th>\n",
       "      <th>Time_Stamp</th>\n",
       "    </tr>\n",
       "  </thead>\n",
       "  <tbody>\n",
       "    <tr>\n",
       "      <td>0</td>\n",
       "      <td>AKM1MP6P0OYPR</td>\n",
       "      <td>0132793040</td>\n",
       "      <td>5.0</td>\n",
       "      <td>1365811200</td>\n",
       "    </tr>\n",
       "    <tr>\n",
       "      <td>1</td>\n",
       "      <td>A2CX7LUOHB2NDG</td>\n",
       "      <td>0321732944</td>\n",
       "      <td>5.0</td>\n",
       "      <td>1341100800</td>\n",
       "    </tr>\n",
       "    <tr>\n",
       "      <td>2</td>\n",
       "      <td>A2NWSAGRHCP8N5</td>\n",
       "      <td>0439886341</td>\n",
       "      <td>1.0</td>\n",
       "      <td>1367193600</td>\n",
       "    </tr>\n",
       "    <tr>\n",
       "      <td>3</td>\n",
       "      <td>A2WNBOD3WNDNKT</td>\n",
       "      <td>0439886341</td>\n",
       "      <td>3.0</td>\n",
       "      <td>1374451200</td>\n",
       "    </tr>\n",
       "    <tr>\n",
       "      <td>4</td>\n",
       "      <td>A1GI0U4ZRJA8WN</td>\n",
       "      <td>0439886341</td>\n",
       "      <td>1.0</td>\n",
       "      <td>1334707200</td>\n",
       "    </tr>\n",
       "    <tr>\n",
       "      <td>5</td>\n",
       "      <td>A1QGNMC6O1VW39</td>\n",
       "      <td>0511189877</td>\n",
       "      <td>5.0</td>\n",
       "      <td>1397433600</td>\n",
       "    </tr>\n",
       "    <tr>\n",
       "      <td>6</td>\n",
       "      <td>A3J3BRHTDRFJ2G</td>\n",
       "      <td>0511189877</td>\n",
       "      <td>2.0</td>\n",
       "      <td>1397433600</td>\n",
       "    </tr>\n",
       "    <tr>\n",
       "      <td>7</td>\n",
       "      <td>A2TY0BTJOTENPG</td>\n",
       "      <td>0511189877</td>\n",
       "      <td>5.0</td>\n",
       "      <td>1395878400</td>\n",
       "    </tr>\n",
       "    <tr>\n",
       "      <td>8</td>\n",
       "      <td>A34ATBPOK6HCHY</td>\n",
       "      <td>0511189877</td>\n",
       "      <td>5.0</td>\n",
       "      <td>1395532800</td>\n",
       "    </tr>\n",
       "    <tr>\n",
       "      <td>9</td>\n",
       "      <td>A89DO69P0XZ27</td>\n",
       "      <td>0511189877</td>\n",
       "      <td>5.0</td>\n",
       "      <td>1395446400</td>\n",
       "    </tr>\n",
       "  </tbody>\n",
       "</table>\n",
       "</div>"
      ],
      "text/plain": [
       "           userId   productId  Rating  Time_Stamp\n",
       "0   AKM1MP6P0OYPR  0132793040     5.0  1365811200\n",
       "1  A2CX7LUOHB2NDG  0321732944     5.0  1341100800\n",
       "2  A2NWSAGRHCP8N5  0439886341     1.0  1367193600\n",
       "3  A2WNBOD3WNDNKT  0439886341     3.0  1374451200\n",
       "4  A1GI0U4ZRJA8WN  0439886341     1.0  1334707200\n",
       "5  A1QGNMC6O1VW39  0511189877     5.0  1397433600\n",
       "6  A3J3BRHTDRFJ2G  0511189877     2.0  1397433600\n",
       "7  A2TY0BTJOTENPG  0511189877     5.0  1395878400\n",
       "8  A34ATBPOK6HCHY  0511189877     5.0  1395532800\n",
       "9   A89DO69P0XZ27  0511189877     5.0  1395446400"
      ]
     },
     "execution_count": 3,
     "metadata": {},
     "output_type": "execute_result"
    }
   ],
   "source": [
    "#To check if data is properly oaded\n",
    "df1.head(10)"
   ]
  },
  {
   "cell_type": "code",
   "execution_count": 4,
   "metadata": {},
   "outputs": [
    {
     "data": {
      "text/plain": [
       "(7824482, 4)"
      ]
     },
     "execution_count": 4,
     "metadata": {},
     "output_type": "execute_result"
    }
   ],
   "source": [
    "#To check shape of data shape include no of rows and colum. No of row can also tell length of data\n",
    "df1.shape"
   ]
  },
  {
   "cell_type": "code",
   "execution_count": 5,
   "metadata": {},
   "outputs": [
    {
     "data": {
      "text/html": [
       "<div>\n",
       "<style scoped>\n",
       "    .dataframe tbody tr th:only-of-type {\n",
       "        vertical-align: middle;\n",
       "    }\n",
       "\n",
       "    .dataframe tbody tr th {\n",
       "        vertical-align: top;\n",
       "    }\n",
       "\n",
       "    .dataframe thead th {\n",
       "        text-align: right;\n",
       "    }\n",
       "</style>\n",
       "<table border=\"1\" class=\"dataframe\">\n",
       "  <thead>\n",
       "    <tr style=\"text-align: right;\">\n",
       "      <th></th>\n",
       "      <th>userId</th>\n",
       "      <th>productId</th>\n",
       "      <th>Rating</th>\n",
       "    </tr>\n",
       "  </thead>\n",
       "  <tbody>\n",
       "    <tr>\n",
       "      <td>0</td>\n",
       "      <td>AKM1MP6P0OYPR</td>\n",
       "      <td>0132793040</td>\n",
       "      <td>5.0</td>\n",
       "    </tr>\n",
       "    <tr>\n",
       "      <td>1</td>\n",
       "      <td>A2CX7LUOHB2NDG</td>\n",
       "      <td>0321732944</td>\n",
       "      <td>5.0</td>\n",
       "    </tr>\n",
       "    <tr>\n",
       "      <td>2</td>\n",
       "      <td>A2NWSAGRHCP8N5</td>\n",
       "      <td>0439886341</td>\n",
       "      <td>1.0</td>\n",
       "    </tr>\n",
       "    <tr>\n",
       "      <td>3</td>\n",
       "      <td>A2WNBOD3WNDNKT</td>\n",
       "      <td>0439886341</td>\n",
       "      <td>3.0</td>\n",
       "    </tr>\n",
       "    <tr>\n",
       "      <td>4</td>\n",
       "      <td>A1GI0U4ZRJA8WN</td>\n",
       "      <td>0439886341</td>\n",
       "      <td>1.0</td>\n",
       "    </tr>\n",
       "    <tr>\n",
       "      <td>5</td>\n",
       "      <td>A1QGNMC6O1VW39</td>\n",
       "      <td>0511189877</td>\n",
       "      <td>5.0</td>\n",
       "    </tr>\n",
       "    <tr>\n",
       "      <td>6</td>\n",
       "      <td>A3J3BRHTDRFJ2G</td>\n",
       "      <td>0511189877</td>\n",
       "      <td>2.0</td>\n",
       "    </tr>\n",
       "    <tr>\n",
       "      <td>7</td>\n",
       "      <td>A2TY0BTJOTENPG</td>\n",
       "      <td>0511189877</td>\n",
       "      <td>5.0</td>\n",
       "    </tr>\n",
       "    <tr>\n",
       "      <td>8</td>\n",
       "      <td>A34ATBPOK6HCHY</td>\n",
       "      <td>0511189877</td>\n",
       "      <td>5.0</td>\n",
       "    </tr>\n",
       "    <tr>\n",
       "      <td>9</td>\n",
       "      <td>A89DO69P0XZ27</td>\n",
       "      <td>0511189877</td>\n",
       "      <td>5.0</td>\n",
       "    </tr>\n",
       "  </tbody>\n",
       "</table>\n",
       "</div>"
      ],
      "text/plain": [
       "           userId   productId  Rating\n",
       "0   AKM1MP6P0OYPR  0132793040     5.0\n",
       "1  A2CX7LUOHB2NDG  0321732944     5.0\n",
       "2  A2NWSAGRHCP8N5  0439886341     1.0\n",
       "3  A2WNBOD3WNDNKT  0439886341     3.0\n",
       "4  A1GI0U4ZRJA8WN  0439886341     1.0\n",
       "5  A1QGNMC6O1VW39  0511189877     5.0\n",
       "6  A3J3BRHTDRFJ2G  0511189877     2.0\n",
       "7  A2TY0BTJOTENPG  0511189877     5.0\n",
       "8  A34ATBPOK6HCHY  0511189877     5.0\n",
       "9   A89DO69P0XZ27  0511189877     5.0"
      ]
     },
     "execution_count": 5,
     "metadata": {},
     "output_type": "execute_result"
    }
   ],
   "source": [
    "#Drop time_stamp column\n",
    "df1=df1.drop('Time_Stamp',axis=1)\n",
    "df1.head(10)"
   ]
  },
  {
   "cell_type": "code",
   "execution_count": 6,
   "metadata": {},
   "outputs": [
    {
     "name": "stdout",
     "output_type": "stream",
     "text": [
      "No of rows:  7824482\n",
      "No of columns:  3\n"
     ]
    }
   ],
   "source": [
    "# Check the number of rows and columns after droping Timestamp\n",
    "rows, columns = df1.shape\n",
    "print(\"No of rows: \", rows) \n",
    "print(\"No of columns: \", columns) "
   ]
  },
  {
   "cell_type": "code",
   "execution_count": null,
   "metadata": {},
   "outputs": [],
   "source": []
  },
  {
   "cell_type": "markdown",
   "metadata": {},
   "source": [
    "## Explore data"
   ]
  },
  {
   "cell_type": "code",
   "execution_count": 7,
   "metadata": {},
   "outputs": [
    {
     "data": {
      "text/plain": [
       "userId        object\n",
       "productId     object\n",
       "Rating       float64\n",
       "dtype: object"
      ]
     },
     "execution_count": 7,
     "metadata": {},
     "output_type": "execute_result"
    }
   ],
   "source": [
    "#To see datatype of columns\n",
    "df1.dtypes\n",
    "\n",
    "#As I thought userId and productId is object and rating is float type"
   ]
  },
  {
   "cell_type": "code",
   "execution_count": 8,
   "metadata": {},
   "outputs": [
    {
     "name": "stdout",
     "output_type": "stream",
     "text": [
      "Number of missing values across columns-\n",
      " userId       0\n",
      "productId    0\n",
      "Rating       0\n",
      "dtype: int64\n"
     ]
    }
   ],
   "source": [
    "# Check for missing values present\n",
    "\n",
    "print('Number of missing values across columns-\\n', df1.isnull().sum())"
   ]
  },
  {
   "cell_type": "code",
   "execution_count": 9,
   "metadata": {},
   "outputs": [
    {
     "data": {
      "text/html": [
       "<div>\n",
       "<style scoped>\n",
       "    .dataframe tbody tr th:only-of-type {\n",
       "        vertical-align: middle;\n",
       "    }\n",
       "\n",
       "    .dataframe tbody tr th {\n",
       "        vertical-align: top;\n",
       "    }\n",
       "\n",
       "    .dataframe thead th {\n",
       "        text-align: right;\n",
       "    }\n",
       "</style>\n",
       "<table border=\"1\" class=\"dataframe\">\n",
       "  <thead>\n",
       "    <tr style=\"text-align: right;\">\n",
       "      <th></th>\n",
       "      <th>count</th>\n",
       "      <th>mean</th>\n",
       "      <th>std</th>\n",
       "      <th>min</th>\n",
       "      <th>25%</th>\n",
       "      <th>50%</th>\n",
       "      <th>75%</th>\n",
       "      <th>max</th>\n",
       "    </tr>\n",
       "  </thead>\n",
       "  <tbody>\n",
       "    <tr>\n",
       "      <td>Rating</td>\n",
       "      <td>7824482.0</td>\n",
       "      <td>4.012337</td>\n",
       "      <td>1.38091</td>\n",
       "      <td>1.0</td>\n",
       "      <td>3.0</td>\n",
       "      <td>5.0</td>\n",
       "      <td>5.0</td>\n",
       "      <td>5.0</td>\n",
       "    </tr>\n",
       "  </tbody>\n",
       "</table>\n",
       "</div>"
      ],
      "text/plain": [
       "            count      mean      std  min  25%  50%  75%  max\n",
       "Rating  7824482.0  4.012337  1.38091  1.0  3.0  5.0  5.0  5.0"
      ]
     },
     "execution_count": 9,
     "metadata": {},
     "output_type": "execute_result"
    }
   ],
   "source": [
    "# Summary statistics of 'rating' variable\n",
    "df1.describe().T\n",
    "\n",
    "#AS other columns i.e userId and productId are object they wont be shown in describe \n",
    "#Here data has left side skew with long tail in left side\n",
    "#As this is recommendaton system his information is not that much of help"
   ]
  },
  {
   "cell_type": "code",
   "execution_count": 10,
   "metadata": {},
   "outputs": [
    {
     "name": "stdout",
     "output_type": "stream",
     "text": [
      "The minimum rating is: 1\n",
      "The maximum rating is: 5\n"
     ]
    }
   ],
   "source": [
    "# find minimum and maximum ratings\n",
    "print('The minimum rating is: %d' %(df1['Rating'].min()))\n",
    "print('The maximum rating is: %d' %(df1['Rating'].max()))"
   ]
  },
  {
   "cell_type": "code",
   "execution_count": 11,
   "metadata": {},
   "outputs": [
    {
     "name": "stderr",
     "output_type": "stream",
     "text": [
      "C:\\Users\\sarth\\Anaconda3\\lib\\site-packages\\seaborn\\categorical.py:3666: UserWarning: The `factorplot` function has been renamed to `catplot`. The original name will be removed in a future release. Please update your code. Note that the default `kind` in `factorplot` (`'point'`) has changed `'strip'` in `catplot`.\n",
      "  warnings.warn(msg)\n"
     ]
    },
    {
     "data": {
      "image/png": "[encoded data removed]",
      "text/plain": [
       "<Figure size 720x360 with 1 Axes>"
      ]
     },
     "metadata": {},
     "output_type": "display_data"
    }
   ],
   "source": [
    "# Check the distribution of ratings columns \n",
    "with sns.axes_style('white'):\n",
    "    g = sns.factorplot(\"Rating\", data=df1, aspect=2.0,kind='count')\n",
    "    g.set_ylabels(\"Total number of ratings\") "
   ]
  },
  {
   "cell_type": "markdown",
   "metadata": {},
   "source": [
    "***Here when seeing plot I came to conclusion that most of users have rated 5 then users have rated 4 after that they have rated 1 and the least users have rated is 2***"
   ]
  },
  {
   "cell_type": "code",
   "execution_count": 12,
   "metadata": {},
   "outputs": [
    {
     "name": "stdout",
     "output_type": "stream",
     "text": [
      "Number of unique USERS in Raw data =  4201696\n",
      "Number of unique ITEMS in Raw data =  476002\n"
     ]
    }
   ],
   "source": [
    "# Number of unique user id and product id in the data\n",
    "print('Number of unique USERS in Raw data = ', df1['userId'].nunique())\n",
    "print('Number of unique ITEMS in Raw data = ', df1['productId'].nunique())"
   ]
  },
  {
   "cell_type": "code",
   "execution_count": null,
   "metadata": {},
   "outputs": [],
   "source": []
  },
  {
   "cell_type": "markdown",
   "metadata": {},
   "source": [
    "## Reducing data "
   ]
  },
  {
   "cell_type": "markdown",
   "metadata": {},
   "source": [
    "As per the statement the data is being reduced in this steps. Users who hae rated more than 50 product have been selected in this  "
   ]
  },
  {
   "cell_type": "code",
   "execution_count": 13,
   "metadata": {},
   "outputs": [],
   "source": [
    "#Data is reduced by user\n",
    "\n",
    "#k=df1.groupby('productId')['Rating'].count()\n",
    "#k=df1.groupby('productId').count()\n",
    "k=df1.groupby('userId').count()"
   ]
  },
  {
   "cell_type": "code",
   "execution_count": 14,
   "metadata": {},
   "outputs": [
    {
     "name": "stdout",
     "output_type": "stream",
     "text": [
      "                       productId  Rating\n",
      "userId                                  \n",
      "A00000262KYZUE4J55XGL          1       1\n",
      "A000063614T1OE0BUSKUT          2       2\n",
      "A00009182QVLSWIGHLS1B          1       1\n",
      "A00009661LC9LQPGKJ24G          1       1\n",
      "A00010809P09NUU6ZP6H           1       1\n",
      "...                          ...     ...\n",
      "AZZZOVIBXHGDR                  3       3\n",
      "AZZZRS1YZ8HVP                  2       2\n",
      "AZZZSIK7NFFVP                  1       1\n",
      "AZZZWXXUPZ1F3                  1       1\n",
      "AZZZY1W55XHZR                  1       1\n",
      "\n",
      "[4201696 rows x 2 columns]\n"
     ]
    }
   ],
   "source": [
    "print(k)"
   ]
  },
  {
   "cell_type": "code",
   "execution_count": 15,
   "metadata": {},
   "outputs": [
    {
     "data": {
      "text/plain": [
       "(4201696, 2)"
      ]
     },
     "execution_count": 15,
     "metadata": {},
     "output_type": "execute_result"
    }
   ],
   "source": [
    "#Shape of count \n",
    "k.shape"
   ]
  },
  {
   "cell_type": "code",
   "execution_count": 16,
   "metadata": {},
   "outputs": [
    {
     "name": "stdout",
     "output_type": "stream",
     "text": [
      "                productId  Rating\n",
      "userId                           \n",
      "A100UD67AHFODS        116     116\n",
      "A100WO06OQR8BQ        132     132\n",
      "A105S56ODHGJEK         68      68\n",
      "A105TOJ6LTVMBG         71      71\n",
      "A10AFVU66A79Y1         65      65\n",
      "...                   ...     ...\n",
      "AZBXKUH4AIW3X          53      53\n",
      "AZCE11PSTCH1L          60      60\n",
      "AZMY6E8B52L2T         189     189\n",
      "AZNUHQSHZHSUE          54      54\n",
      "AZOK5STV85FBJ          54      54\n",
      "\n",
      "[1466 rows x 2 columns]\n"
     ]
    }
   ],
   "source": [
    "#Here I selected those who have rated 50 plus products\n",
    "k=k[k['Rating']>50]\n",
    "print(k)"
   ]
  },
  {
   "cell_type": "markdown",
   "metadata": {},
   "source": [
    "print(len(k['userId'].unique())) #To see no of new users"
   ]
  },
  {
   "cell_type": "code",
   "execution_count": null,
   "metadata": {},
   "outputs": [],
   "source": []
  },
  {
   "cell_type": "code",
   "execution_count": 17,
   "metadata": {},
   "outputs": [
    {
     "data": {
      "text/html": [
       "<div>\n",
       "<style scoped>\n",
       "    .dataframe tbody tr th:only-of-type {\n",
       "        vertical-align: middle;\n",
       "    }\n",
       "\n",
       "    .dataframe tbody tr th {\n",
       "        vertical-align: top;\n",
       "    }\n",
       "\n",
       "    .dataframe thead th {\n",
       "        text-align: right;\n",
       "    }\n",
       "</style>\n",
       "<table border=\"1\" class=\"dataframe\">\n",
       "  <thead>\n",
       "    <tr style=\"text-align: right;\">\n",
       "      <th></th>\n",
       "      <th>productId</th>\n",
       "      <th>Rating</th>\n",
       "    </tr>\n",
       "    <tr>\n",
       "      <th>userId</th>\n",
       "      <th></th>\n",
       "      <th></th>\n",
       "    </tr>\n",
       "  </thead>\n",
       "  <tbody>\n",
       "    <tr>\n",
       "      <td>A100UD67AHFODS</td>\n",
       "      <td>116</td>\n",
       "      <td>116</td>\n",
       "    </tr>\n",
       "    <tr>\n",
       "      <td>A100WO06OQR8BQ</td>\n",
       "      <td>132</td>\n",
       "      <td>132</td>\n",
       "    </tr>\n",
       "    <tr>\n",
       "      <td>A105S56ODHGJEK</td>\n",
       "      <td>68</td>\n",
       "      <td>68</td>\n",
       "    </tr>\n",
       "    <tr>\n",
       "      <td>A105TOJ6LTVMBG</td>\n",
       "      <td>71</td>\n",
       "      <td>71</td>\n",
       "    </tr>\n",
       "    <tr>\n",
       "      <td>A10AFVU66A79Y1</td>\n",
       "      <td>65</td>\n",
       "      <td>65</td>\n",
       "    </tr>\n",
       "  </tbody>\n",
       "</table>\n",
       "</div>"
      ],
      "text/plain": [
       "                productId  Rating\n",
       "userId                           \n",
       "A100UD67AHFODS        116     116\n",
       "A100WO06OQR8BQ        132     132\n",
       "A105S56ODHGJEK         68      68\n",
       "A105TOJ6LTVMBG         71      71\n",
       "A10AFVU66A79Y1         65      65"
      ]
     },
     "execution_count": 17,
     "metadata": {},
     "output_type": "execute_result"
    }
   ],
   "source": [
    "k.head()"
   ]
  },
  {
   "cell_type": "code",
   "execution_count": 18,
   "metadata": {},
   "outputs": [],
   "source": [
    "#storing index value to a new column \n",
    "\n",
    "#k['productId']=k.index\n",
    "k['userId']=k.index"
   ]
  },
  {
   "cell_type": "raw",
   "metadata": {},
   "source": [
    "number=k.shape[0]\n",
    "index1=[]\n",
    "for i in range(0,number):\n",
    "    index1.append(i)\n",
    "print(index1)    "
   ]
  },
  {
   "cell_type": "raw",
   "metadata": {},
   "source": [
    "k.set_index('index1',inplace=True)"
   ]
  },
  {
   "cell_type": "code",
   "execution_count": 19,
   "metadata": {},
   "outputs": [
    {
     "data": {
      "text/html": [
       "<div>\n",
       "<style scoped>\n",
       "    .dataframe tbody tr th:only-of-type {\n",
       "        vertical-align: middle;\n",
       "    }\n",
       "\n",
       "    .dataframe tbody tr th {\n",
       "        vertical-align: top;\n",
       "    }\n",
       "\n",
       "    .dataframe thead th {\n",
       "        text-align: right;\n",
       "    }\n",
       "</style>\n",
       "<table border=\"1\" class=\"dataframe\">\n",
       "  <thead>\n",
       "    <tr style=\"text-align: right;\">\n",
       "      <th></th>\n",
       "      <th>productId</th>\n",
       "      <th>Rating</th>\n",
       "      <th>userId</th>\n",
       "    </tr>\n",
       "    <tr>\n",
       "      <th>userId</th>\n",
       "      <th></th>\n",
       "      <th></th>\n",
       "      <th></th>\n",
       "    </tr>\n",
       "  </thead>\n",
       "  <tbody>\n",
       "    <tr>\n",
       "      <td>A100UD67AHFODS</td>\n",
       "      <td>116</td>\n",
       "      <td>116</td>\n",
       "      <td>A100UD67AHFODS</td>\n",
       "    </tr>\n",
       "    <tr>\n",
       "      <td>A100WO06OQR8BQ</td>\n",
       "      <td>132</td>\n",
       "      <td>132</td>\n",
       "      <td>A100WO06OQR8BQ</td>\n",
       "    </tr>\n",
       "    <tr>\n",
       "      <td>A105S56ODHGJEK</td>\n",
       "      <td>68</td>\n",
       "      <td>68</td>\n",
       "      <td>A105S56ODHGJEK</td>\n",
       "    </tr>\n",
       "    <tr>\n",
       "      <td>A105TOJ6LTVMBG</td>\n",
       "      <td>71</td>\n",
       "      <td>71</td>\n",
       "      <td>A105TOJ6LTVMBG</td>\n",
       "    </tr>\n",
       "    <tr>\n",
       "      <td>A10AFVU66A79Y1</td>\n",
       "      <td>65</td>\n",
       "      <td>65</td>\n",
       "      <td>A10AFVU66A79Y1</td>\n",
       "    </tr>\n",
       "  </tbody>\n",
       "</table>\n",
       "</div>"
      ],
      "text/plain": [
       "                productId  Rating          userId\n",
       "userId                                           \n",
       "A100UD67AHFODS        116     116  A100UD67AHFODS\n",
       "A100WO06OQR8BQ        132     132  A100WO06OQR8BQ\n",
       "A105S56ODHGJEK         68      68  A105S56ODHGJEK\n",
       "A105TOJ6LTVMBG         71      71  A105TOJ6LTVMBG\n",
       "A10AFVU66A79Y1         65      65  A10AFVU66A79Y1"
      ]
     },
     "execution_count": 19,
     "metadata": {},
     "output_type": "execute_result"
    }
   ],
   "source": [
    "k.head()"
   ]
  },
  {
   "cell_type": "code",
   "execution_count": 20,
   "metadata": {},
   "outputs": [
    {
     "name": "stdout",
     "output_type": "stream",
     "text": [
      "['A100UD67AHFODS', 'A100WO06OQR8BQ', 'A105S56ODHGJEK', 'A105TOJ6LTVMBG', 'A10AFVU66A79Y1', 'A10H24TDLK2VDP', 'A10NMELR4KX0J6', 'A10O7THJ2O20AG', 'A10PEXB6XAQ5XF', 'A10X9ME6R66JDX', 'A10Y058K7B96C6', 'A10ZBR6O8S8OCY', 'A10ZFE6YE0UHW8', 'A110PC8C5Y7MQD', 'A110VKXAVLAYKY', 'A111WCUF5KA2I6', 'A1143YEAZYMYHJ', 'A11D1KHM7DVOQK', 'A11ED8O95W2103', 'A11EXFO14WEJM1', 'A11EYMH9UV9XG7', 'A11FX8HL2ANK6T', 'A11I1I9QLMAM1A', 'A11IXJ8M1JO296', 'A11KZ906QD08C5', 'A11LNPG39A2ZV4', 'A11OTLEDSW8ZXD', 'A11P105WVK5240', 'A11T807LX2EF00', 'A11ULAZ4B5ZXC8', 'A11YIHB6IW352W', 'A11YOTONCPRQ9S', 'A124WZCUIH2T7W', 'A12ANFNOSMW5VD', 'A12DLJESJKM1OQ', 'A12DQZKRKTNF5E', 'A12EVK82QUTSA6', 'A12LH2100CKQO', 'A12O5SEIF162P8', 'A12R3YGEHW7D8G', 'A132ETQPMHQ585', 'A13BX9O5UDBILC', 'A13EQE9EY2ET93', 'A13QOK3SKIT9QL', 'A13WOT3RSXKRD5', 'A13WREJ05GMRA6', 'A141OPVE376YFI', 'A141R97FHSSUQ0', 'A1435P5AMCPB3X', 'A145B8OHVNNFAJ', 'A145LBW8ZHF0TW', 'A149RNR5RH19YY', 'A14I1F2H7NOYDC', 'A14JBDSWKPKTZA', 'A14MZJTZAQS6CV', 'A14NA0W8ESGDSI', 'A14X244VGHWPSX', 'A14Z6D3IRJ23F7', 'A1522TN5FVJL0Y', 'A15CL28ALB7MTZ', 'A15G70V9OBTOVO', 'A15J71JLC29KPW', 'A15J9K7O10A3M6', 'A15Q2L6DYRTFIU', 'A15QYHQH80W30L', 'A15T9G38F589KM', 'A15TABNGK6L4N3', 'A15U64VGUV6RBF', 'A15XI2BEGGFEOW', 'A16C19G0I2DE8S', 'A16CVJUQOB6GIB', 'A16HXVNPU5TCGE', 'A16J281SJ9QXIQ', 'A16QODENBJVUI1', 'A16RI68PS6T5CA', 'A16SRDVPBXN69C', 'A16WP8NTPYB0ZM', 'A178M2AHNWQZB0', 'A17BUUBOU0598B', 'A17HMM1M7T9PJ1', 'A17NVM7IAPF2NS', 'A17O9AHKHK66AI', 'A17UNMURMLX0ZE', 'A17V9XL4CWTQ6G', 'A17W0GMB0YY83M', 'A17Z0LVY96TO53', 'A185O1MX1RP964', 'A186697K4XKXQL', 'A18A5VSD0IPN14', 'A18EA7MNLXP9H5', 'A18FLOC8YQY0P8', 'A18GJ9MYYO6GCQ', 'A18HE80910BTZI', 'A18L9A64XNGVGU', 'A18NDN2CIG2TKR', 'A18OTCHQ6MXD6X', 'A18S2VGUH9SCV5', 'A18U49406IPPIJ', 'A18YMFFJW974QS', 'A1901NTE8LFJF6', 'A194Y47BF3CUTJ', 'A195EZSQDW3E21', 'A196JN53PG0C7R', 'A197T2N6RU7K56', 'A1987V5OCO6QHS', 'A198CCH4NNLI2E', 'A19EKT8H85AKO5', 'A19FRW264WZTGP', 'A19HKRB4LU5YR', 'A19HT7YC1UW3D6', 'A19NP8YYADOOSF', 'A19RGDJPNZ7NZ', 'A19RW25Q6206I3', 'A19UTUEBWKIZFT', 'A19W47CXJJP1MI', 'A19X4BF861LQST', 'A19XMHRB3G4DIR', 'A19XPAWSWDRI3B', 'A1A306IAZ3TM1', 'A1A535TCGNMVPI', 'A1A5KUIIIHFF4U', 'A1AH8033GWKBY7', 'A1AKW788238PWQ', 'A1AQ8JT2A3UWMY', 'A1ASWDAEDTTY5I', 'A1ATVMMJZP3Q4X', 'A1AWL9JASMG904', 'A1AZQCVCDBQP6', 'A1B0NL8UWAELI7', 'A1B4MIXYVIKMU2', 'A1B6O7SAIYG2N0', 'A1B8EJQU73YGL9', 'A1BBYSMT9YCODI', 'A1BC62X6HZJGZR', 'A1BJOHHLG0D965', 'A1BT6TL7UCIC5Y', 'A1BVE2ZIBKJ7YI', 'A1BXVZSQOJE6UE', 'A1BZIM4WGZ6DZP', 'A1C47ROOK7BSVL', 'A1C5WS021EL3WO', 'A1C82BC5GNABOA', 'A1CM4HI4S5P0WO', 'A1CMD08Z49PGKQ', 'A1CMWB7AWQUQH4', 'A1CN1P7147QDJC', 'A1CPRP3VFJRS1R', 'A1CSRR7FCKBL9M', 'A1CST2WUA32GP0', 'A1CYTBE7LLUQ8F', 'A1D9V11QUHXENQ', 'A1DB5QPH7WO488', 'A1DO9LRCO23EOM', 'A1DQHS7MOVYYYA', 'A1DTCJV6KOMJOA', 'A1E1LEVQ9VQNK', 'A1E3OB6QMBKRYZ', 'A1E55W6ES0FY17', 'A1EH2S92FHWZRP', 'A1EKSETIBS9ETQ', 'A1EQ5D5JRSW23K', 'A1EVV74UQYVKRY', 'A1EXGL6L0QQ0M5', 'A1F0KPA232MTYC', 'A1F1A0QQP2XVH5', 'A1F5O1USOUOOXI', 'A1F7YU6O5RU432', 'A1F9Z42CFF9IAY', 'A1FDSZISWIXH1A', 'A1FDV3WPOHREY9', 'A1FF2PLA84KNAE', 'A1FLJCHN5CG5M5', 'A1FMU4CJLIDHR9', 'A1FOSIV4TWZFR7', 'A1FR68QH6Z4YZM', 'A1FXT4VNDA25LY', 'A1G3DKT38DNZJP', 'A1G5MI2KREPEIB', 'A1G650TTTHEAL5', 'A1GBT4UN2RW7XY', 'A1GBU479WXR7UG', 'A1GNYV0RA0EQSS', 'A1GQRGB8FGSLIZ', 'A1GW7V6S6XSXX3', 'A1GWG5CWLKJ7ET', 'A1GYEGLX3P2Y7P', 'A1H0D7635GEEJ1', 'A1H4IVXNXWWBLV', 'A1H55L0BLPCWYF', 'A1H6SBO7R007I8', 'A1H7Y5XKPGT0OS', 'A1H98YV5K5BUX0', 'A1HBEQWSMVQEWJ', 'A1HBI9BBQIG1NH', 'A1HFT68GJ42LTM', 'A1HSM98KUGTHNY', 'A1HYH206E18XVC', 'A1I96OYAUJ3HQE', 'A1IBKN1GXYJ3K4', 'A1IDAKX7OM3QIE', 'A1IG1I6MR3HAWA', 'A1ILWPH1GHUXE2', 'A1ITRGMT80D5TK', 'A1IU7S4HCK1XK0', 'A1J5HIF41ENSMZ', 'A1J75JJ0Q2OEJN', 'A1J87SYB3JPQWH', 'A1JBEKU5TYIWE7', 'A1JUBRIZMO0RJV', 'A1JWSDDIH5Z7DV', 'A1JZFGZEZVWQPY', 'A1K4G5YJDJQI6Q', 'A1KD8NJPZ01R37', 'A1KDUQ2HU0WD68', 'A1KI7YHQEOS1RB', 'A1KKE6VX8VPWZK', 'A1KSNK256G46GX', 'A1KWPIORLG2QV', 'A1KXJCXS6HFRQZ', 'A1KY5G5FP31F2F', 'A1L0P1ZP5FD6EC', 'A1L1N3J6XNABO2', 'A1L5TA5UQF7EWE', 'A1L64KDYO5BOJA', 'A1LAGS8H4A2DR7', 'A1LD5SE8IZ1H70', 'A1LHMSY3Q46PJS', 'A1LYMYNURB9EWW', 'A1M7HP5CHDXXOU', 'A1MBXP3NZM2BUO', 'A1MCH5RXDOH87H', 'A1MEISNED4NP7U', 'A1MFAPVBW9BEGD', 'A1MFPAM9TTRTXN', 'A1MFVAHTT2BHM0', 'A1MJMYLRTZ76ZX', 'A1MNN0ZMHYPJDU', 'A1MQQEM7W77L62', 'A1MRPX3RM48T2I', 'A1MRRMHGV3PN5W', 'A1MZL91Z44RN06', 'A1N3EH28S4DI8L', 'A1N5FSCYN4796F', 'A1NAA1R38JSNHV', 'A1NGFGBX2VCQS8', 'A1NJHKPHD4YWZV', 'A1NMM0RDRF6R84', 'A1NNMOD9H36Q8E', 'A1NQFT941TOTT7', 'A1NRMTQ5SZPZA', 'A1NZLRAZJGD99W', 'A1O229NVVDJUX2', 'A1OA2ZW406NQXM', 'A1ODOGXEYECQQ8', 'A1OGCPMSIVK7G4', 'A1OH33MR6K4G5J', 'A1OMXVXXP07F05', 'A1OO9N1MRNQ7K0', 'A1P0JSFW184ZXJ', 'A1P3DDFL423B3C', 'A1P4XD7IORSEFN', 'A1PAGHECG401K1', 'A1PEXTGNF36I1Q', 'A1PI8VBCXXSGC7', 'A1PL7QILVQV3IF', 'A1PM7HH4F77NEH', 'A1PN2U0AWXGVML', 'A1PPS91NLI7KEH', 'A1PSVZBM894R5H', 'A1PV5T5S4D5NPI', 'A1PVJICI412IN4', 'A1PVX61PRPVX27', 'A1Q5P5ML3176C0', 'A1QJ10LEINDRWW', 'A1QNYLBG73QRNF', 'A1QOIHVQC5XWCJ', 'A1QOK9LU90ACF7', 'A1QQA7Y92L4F9R', 'A1QRST0A3IQIEF', 'A1QVFHPY8418HC', 'A1R19YYR5OR26T', 'A1R377IPZOKLMM', 'A1R6RKKE44AYA8', 'A1R76R4E6A8S3B', 'A1RCGK44YXNBBB', 'A1RDHBBZE1NPS3', 'A1REY92IEZJUSX', 'A1RJKTYC03L0JY', 'A1RL1OTV8IJMVD', 'A1ROUMJOGO4QMB', 'A1RPJHUVVSI98A', 'A1RPTVW5VEOSI', 'A1S27P7KJO9I96', 'A1S7BFT0HDF3HA', 'A1SB9BNNGKNX2Z', 'A1SC5OXLQNGPLN', 'A1SDPA1J98UP4L', 'A1SFPA80X7TRBR', 'A1SHHQSPOWR00F', 'A1SX9PHJWTDMF9', 'A1T1YSCDW0PD25', 'A1T7EHCMZ92TKC', 'A1T9MILRRZ00F8', 'A1TDR7Y90SVCHL', 'A1TFDMY4YNTV97', 'A1TQBAHI3M4ZBQ', 'A1TQZUSOU22E9M', 'A1TR1R2QKWRSRA', 'A1TY97ZGQT5FGF', 'A1U11IP6K6NHAK', 'A1U4GOVZWL8ZTL', 'A1U5IJHJK84S54', 'A1U5NWJOYH2QQH', 'A1UCAVBNJUZMPR', 'A1UEL5C1N6E5SE', 'A1UL2JH7XOUGM5', 'A1UMSB7LAW0RIR', 'A1UQBFCERIP7VJ', 'A1UQUDT2Q0YENM', 'A1URXSRV6WDHVY', 'A1UTM65Y3G9HUL', 'A1V3TRGWOMA8LC', 'A1V4A5U5O3TMMD', 'A1V4VVBQBFXRHC', 'A1V5TRJXTI6F01', 'A1VEELTKS8NLZB', 'A1VFX417XDNWIU', 'A1VGXHHR08G044', 'A1VHCO8RQFIGQJ', 'A1VLE2SH9J8WYS', 'A1VLVWTLV3LVHR', 'A1VOFY3QFT9WCG', 'A1VQBEW0G4IH1J', 'A1VQHH85U7PX0', 'A1VR1HIOVQWN09', 'A1VRANSQ0WF1YS', 'A1VS1LL905P5L5', 'A1VTCSCH8FFC76', 'A1VUN4JU731CBH', 'A1VVRA3P6G1TWH', 'A1VYFEJM12ZP11', 'A1W415JP5WEAJK', 'A1WF4QNIE2Z3I7', 'A1WG97A0EFHYXN', 'A1WJ3P43SZUNDM', 'A1WUQF5HWBAQJU', 'A1WXG10FJ353K0', 'A1X1CEGHTHMBL1', 'A1X2LENOF84LCQ', 'A1X3DA7C61WZLQ', 'A1X3ESYZ79H59E', 'A1XB7JGJ459ERP', 'A1XE3M22N91451', 'A1XEQGYY1IL8CD', 'A1XK4VP74IB9TQ', 'A1XXMNLOLKNO0I', 'A1Y051MQ2SVPFI', 'A1Y4EWMUTW73GD', 'A1Y85GQ09Y95JL', 'A1YE1IK0JYSIIE', 'A1YEPFLLH42OU1', 'A1YN5I4FINMBTI', 'A1YVO5V1SO18DZ', 'A1Z16630QMH8Q6', 'A1Z3598J0371ND', 'A1Z4GII5CHCDG7', 'A1Z7SC7HH1BJKA', 'A1Z7U9K6X3FEOU', 'A1ZA5SXZS8Z3CK', 'A1ZBEIL78MLR9Z', 'A1ZCSSCAGBCD49', 'A1ZM846Y7AUYD', 'A1ZPUEHF4AES86', 'A1ZPY91VE3IDN1', 'A1ZTR0FR5AW9B4', 'A1ZU55TM45Y2R8', 'A1ZVFCPHCWFV71', 'A1ZXMMQPYC3Z9I', 'A200DY76VXVGP9', 'A200RY2ELZL2Q3', 'A203OCQQ12MAVT', 'A204K1OFE8OB9Y', 'A206CGM6J75UJY', 'A20951I210L0IB', 'A209G57KXCBF4C', 'A20DDH4NT6Q1E8', 'A20DZX38KRBIT8', 'A20G074MWH9U7O', 'A20H1M28WLI9J2', 'A20L63B48RPSOH', 'A20OBCQWBKCGZT', 'A20UU20K7M9ZPF', 'A20VG5W98SX99L', 'A20WUUD9EDWY4N', 'A212MDP6K4VJS5', 'A213J54E63SYOP', 'A214W7SK2DJQ99', 'A215IN14OKAE2T', 'A215WH6RUDUCMP', 'A21GW4L8FO307V', 'A21I62TCDL4754', 'A21INUA35HX4XQ', 'A21KNRUAA5RK5E', 'A21NS06GDEA3V0', 'A21Q9JVG4SII51', 'A21T0D2F7SKG5S', 'A21VM9WVF8EOSJ', 'A225G2TFM76GYX', 'A226VGZWOEBPGL', 'A2294LS59GC5K7', 'A22CW0ZHY3NJH8', 'A22I55P15NSAOX', 'A22MANL4US4RMY', 'A22NKFOH9RATRC', 'A22R9L5DAVYYWR', 'A22S7D0LP8GRDH', 'A231WM2Z2JL0U3', 'A23D13HKTA95WX', 'A23E9QQHJLNGUI', 'A23GFTVIETX7DS', 'A23NSKTMSPPBTR', 'A23ONMGKEWDG4M', 'A23QII83UGZP5U', 'A23R3EOZ837242', 'A23WPWLYT3P1CZ', 'A23ZNGL704AW7O', 'A23ZXHFLC6TBLD', 'A240FRPD4MEXND', 'A247L282PID4PE', 'A24ARANWS5E3T8', 'A24HWYHR28JJ7A', 'A24J2Y1O22JYZX', 'A24P4E3RJ6AX94', 'A24QFMD1RXLJMB', 'A24RCBRDXRXR0Y', 'A2503LT8PZIHAD', 'A250AXLRBVYKB4', 'A253IOATGMT2UP', 'A257X1MQJO82P2', 'A259MPG6SOL02P', 'A25C2M3QF9G7OQ', 'A25FL6VLD7S23S', 'A25HBO5V8S8SEA', 'A25KKXUQQ0OLWB', 'A25QJBK33C4O0R', 'A25RTRAPQAJBDJ', 'A25TQLMIAPI1T6', 'A25UZ7MA72SMKM', 'A25WJCAP606YMP', 'A267FU71Z01CIH', 'A26877IWJGISYM', 'A26BDXG9KVH7SU', 'A26CPEEWB2WKRE', 'A26EQ8U96JA92T', 'A26KXNN6H1IL0I', 'A26LD9FQHTM8ZH', 'A26SO3TOT2TLJE', 'A274MXTX3DYLUV', 'A27ADCSD15F3GL', 'A27AF4DLLOBQDQ', 'A27B1U3OWCU14J', 'A27GITTN6AVW5I', 'A27H0T39U3FZB5', 'A27M75LRSJ788H', 'A27QXQQOLAMRRR', 'A27T4RQ3XA661C', 'A27TN8D0CZ8LUY', 'A27Y4OEC9MD9PA', 'A28525P0S5ZVJ3', 'A2858RV2VLI14X', 'A28621TSIR5EOG', 'A28BX3MM90A6FI', 'A28I5UM0FT3I6T', 'A28J3123I1QDKI', 'A28LUOEY0ECT9G', 'A28N2AWOVO2PB', 'A28P7V9KI7MXP', 'A28RSMADFCBJDT', 'A28UMA3GW9L124', 'A28X0LT2100RL1', 'A291XTI6NO7DEG', 'A292TRC6DX2GKK', 'A294BKN913UOGP', 'A296QED1MV1V0J', 'A298GL2D0BHGKZ', 'A29GWIJL72GXXZ', 'A29KJ32G75L7G9', 'A2A4X545ERLS7H', 'A2AC6GQ24S45GA', 'A2AEZQ3DGBBLPR', 'A2AF0NOCM71J0B', 'A2ALRZ0ENQLYY5', 'A2ARDVMUGDFED6', 'A2AX2UGB167J31', 'A2AY4YUOX2N1BQ', 'A2B7BUH8834Y6M', 'A2BCDZO1XQLDH', 'A2BGZ52M908MJY', 'A2BIJMB2BITQUM', 'A2BLFCOPSMBOZ9', 'A2BMZRO0H7TFCS', 'A2BUQ240COLAOP', 'A2BX8DDQGCCG2J', 'A2BYV7S1QP2YIG', 'A2C8I2RQ0WG940', 'A2CIQEY05SPHTZ', 'A2CL818RN52NWN', 'A2CPP7BZKOF9TP', 'A2CWIYIETNBAK3', 'A2CWUM49ZWMGEY', 'A2D0CO1OA6DSWY', 'A2D1LPEUCTNT8X', 'A2D1ZQEFS1NBH2', 'A2DF62DP20RIXF', 'A2DG63DN704LOI', 'A2DIQTZPF26T1L', 'A2DKQQIZ793AV5', 'A2DS9DLMSU2M2Z', 'A2DXENZNO2JT4F', 'A2E1EFNIZL2FVA', 'A2ED50E3KWKUKW', 'A2EF8N7ZE7ONWX', 'A2EHYCA29NSQLU', 'A2EMUM49CE0JV4', 'A2EN82VBJT44QP', 'A2EW01G2LNJN06', 'A2EZTM9WY5B5IL', 'A2F2F7N94SR1KQ', 'A2F2GLVFRNV7JJ', 'A2F7CSE6KT7NI4', 'A2F92M62KN324B', 'A2FHTXLKY1XJDB', 'A2FRKEXDXDN1KI', 'A2FSOHSM9X13JT', 'A2FWZ58M6IQMD7', 'A2FXBWR4T4OFQ', 'A2G563AC1HME2R', 'A2GKMXRLI7KLFP', 'A2GMZZ6TDYOHY7', 'A2GOHNFBHUU3UI', 'A2GYV87WW0DMSN', 'A2H4OMJLE7JFM2', 'A2HBOG4LVIY15L', 'A2HDTOF8222KN3', 'A2HJY7418G1KV1', 'A2HKUM9OEBQKDW', 'A2HMF8ZR67BNZS', 'A2HNH4PKE5DPSI', 'A2HPJKM7L4EOQB', 'A2HRHF83I3NDGT', 'A2HV76MYH7UL3S', 'A2HXE29CU1I24Y', 'A2HXEJXEQQTM1D', 'A2I18AO597DSDI', 'A2I2KPNJDQ9SL0', 'A2I357I10ZY7CI', 'A2I5LVVQ7WXEH6', 'A2I6GN7OHB9JKF', 'A2IFGGXG3YV3Y6', 'A2IFKH3TJ10387', 'A2IIAQ7VVAHXTD', 'A2IMLOJ2Z2QEU2', 'A2IT7S59GSASN7', 'A2IXK5LB4Y0NYV', 'A2J0IBS4PFRO2C', 'A2J3VCGBNDLAKF', 'A2J4XMWKR8PPD0', 'A2J7FHZFKOKGZ6', 'A2J8DE8R94ZB02', 'A2J8T58Z4X15IO', 'A2J96FILPQA01', 'A2JAEZ0FMAMJVW', 'A2JCJJNY43QQIV', 'A2JE071UW97J2A', 'A2JKM8KF3296CW', 'A2JMJVNTBL7K7E', 'A2JOPUWVV0XQJ3', 'A2JP9E1H0SF392', 'A2JWF9IG8PJAOA', 'A2JXS1JII6SAUD', 'A2K5RRMPICZ606', 'A2K6CDQ9HZ359G', 'A2KHG3JOFXQ4CE', 'A2KIJBT9HRIOM8', 'A2KOV8XWZOZ0FQ', 'A2KYRPDKVBI2R4', 'A2KZOIOFXXMC1H', 'A2L0F2T1DLTNT8', 'A2L36AGL8CKY3D', 'A2L42QEWR77PKZ', 'A2L4W1M5YU5QX3', 'A2L4ZGN7GZJ95T', 'A2L90SGUP36KGA', 'A2L9OPJAAEK08Q', 'A2LB4FLRZG6CUV', 'A2LCE1D0TW2XY0', 'A2LEIANN1UZTHP', 'A2LF07KCXDR70D', 'A2LF16F0KX9L7P', 'A2LFWJ8X817QGX', 'A2LLSFQO8O8XNW', 'A2LTYEYGKBYXRR', 'A2LW5AL0KQ9P1M', 'A2LXX47A0KMJVX', 'A2M14CFAMF8J7I', 'A2MCRCK1V61FWQ', 'A2ME89MSWVG9NF', 'A2MJ8OL2FYN7CW', 'A2MOD50IHEDH3G', 'A2MOJANFPX353G', 'A2MR696ZU17F12', 'A2MSBIA18RXYQC', 'A2N3JSOIQ6ZNFL', 'A2N75ADJSRW0AH', 'A2NB2E5DXE319Z', 'A2NJQF2UI60VGT', 'A2NLI1M5K2MQ5E', 'A2NN1KIYEM2SKS', 'A2NOIWPJDD7WIQ', 'A2NOW4U7W3F7RI', 'A2NP9CGUSFP22E', 'A2NPN06SYI5VL3', 'A2NQMVTQ4PVLL', 'A2NSMJVQY0RV9S', 'A2NSXY5L42ZUGO', 'A2NT3W1F1XYBFZ', 'A2NU9H8H5MJZSL', 'A2NVQZ4Y7Y0J1R', 'A2NX6MFZP8TM6S', 'A2NX6PABLIJLP1', 'A2NYK9KWFMJV4Y', 'A2O6HZ2B9YSRXR', 'A2OBDNQ5ZYU1L8', 'A2OKRGHIYTBQ6P', 'A2OOLI2WFY4L2', 'A2OOXVZ6B1VZ9A', 'A2OS3TIVAKUAHG', 'A2OT3PDH1AWLTG', 'A2OTQMC69J8MUI', 'A2OWR5G2OAQF7C', 'A2PB325LKXYDOL', 'A2PC9ZZIFV31B1', 'A2PICNZWHEINQC', 'A2PJH18W4XHTZW', 'A2PK64OVZA1U8Z', 'A2PL06HW6KZH2', 'A2PMR2PIGWKCQ9', 'A2POXR5VS3PHKR', 'A2PREU4LOFQRB1', 'A2PSC7LUNIDEAH', 'A2PSD2R9A1CXG7', 'A2PY5ED630H0QJ', 'A2PZXXPGLXXKZU', 'A2Q204DY2L7YRP', 'A2Q2A6JKY95RTP', 'A2Q7OJTVPIO2XH', 'A2QDOJFFLFGF18', 'A2QI2JHSIQ3SN3', 'A2QI2NTDTMK2FV', 'A2QNS95WGN35G9', 'A2QRXQPHDMFCQV', 'A2R1HUYHXV7H18', 'A2R6RA8FRBS608', 'A2RG1B0K8YBJ4A', 'A2RGWCT6K2C3EZ', 'A2RIL2NXHE00AQ', 'A2RIXSMGE9VIBG', 'A2RN2AO4BE6F4K', 'A2ROZACRW31PC2', 'A2RTVGR9B1M600', 'A2RU4U1JZ3DMP5', 'A2RW587355CMVA', 'A2RWHTNM5P3I8Y', 'A2S26YGSVXBCFL', 'A2SATO5BNKWY3Y', 'A2SGAJWXG65464', 'A2SH6A32BE6NEV', 'A2SH7OWE8QJYNC', 'A2SKEQT0WTB954', 'A2SL5IW096Z2BL', 'A2SNE4QQGVP13U', 'A2SPV96SGOEO2', 'A2SR7S6ZJJDGNB', 'A2SYAQXJGRY3XE', 'A2SZLNSI5KOQJT', 'A2T24Z5QP2OMXU', 'A2T3S3VTW65VO5', 'A2T689YVOAYGGD', 'A2TA40MV2H4O6F', 'A2THQCHKR89E16', 'A2TKWMX4563NR6', 'A2TMFC9O3ZCNKE', 'A2TN0U8173HM7A', 'A2TRXEZYU9GYY8', 'A2TVH2OBNXYXHV', 'A2U3OEIK1CUPIK', 'A2UCDLO7V7DG6', 'A2UEB48LAWFUCW', 'A2UKE7GIVC7XFW', 'A2ULZRSHXS3HL7', 'A2UOHALGF2X77Q', 'A2UQK3DAZ8NO2T', 'A2UTZ4O5E2W4DK', 'A2UWPPU5GZLMQZ', 'A2V0I904FH7ABY', 'A2V1J3JT5OOZFO', 'A2V2URLB31HG59', 'A2V5M5EJPOD2IU', 'A2V7EO331SFUF6', 'A2V9DTXTQ5YIMK', 'A2VAD79S4A06DD', 'A2VALCFTOWFYXZ', 'A2VC48WIMY6L6E', 'A2VCXIAWCPQ13P', 'A2VH0UT5EQFB6P', 'A2VIYTWXANL343', 'A2VJ5ALN1BIV3B', 'A2VODABWSVHV8E', 'A2W0XCWOK3MW6F', 'A2W2ODLRQ2L8LE', 'A2W9GX82SLKROQ', 'A2W9I628I6SE1U', 'A2WA8TDCTGUADI', 'A2WB7LZ595CR50', 'A2WBVO6X3KPMDT', 'A2WC9NFLG57W4H', 'A2WCFDOCS73PNB', 'A2WF58BAWLVI95', 'A2WJ5XSE4I9F55', 'A2WLNSZ9U0T1S3', 'A2WPL6Y08K6ZQH', 'A2WW57XX2UVLM6', 'A2WXURU33RBGQS', 'A2WYF4POBUXL2O', 'A2X06FP2PQ6EK0', 'A2X3L31KCXBHCL', 'A2X61KKXXR6WNP', 'A2X695AM08AIN1', 'A2X78O6G89CB30', 'A2X8KN82L07RSK', 'A2XA8CW5DF4MNZ', 'A2XAKGRUHIE2ZA', 'A2XCCN239AR1XK', 'A2XHOLOLKGV1FE', 'A2XIOXRRYX0KZY', 'A2XJMQ2COPGWJH', 'A2XPK6XCL0UH1S', 'A2XQYE6TJYROHQ', 'A2XRIU3SOYZ0ZC', 'A2XRMQA6PJ5ZJ8', 'A2XU6J41ZQOJ2V', 'A2XX2A4OJCDNLZ', 'A2XXBZPQT5EXHV', 'A2Y1WNETD9AYHO', 'A2Y29IRSI08F0I', 'A2Y3WWPUKIJ59I', 'A2Y739CRM15WDL', 'A2YEOR4XJ8N3QE', 'A2YEZ8Z3BW2SKG', 'A2YHXGPCTENZY3', 'A2YRX8J4WM5BRX', 'A2YW6XOID7GV6G', 'A2YYHSORXIHZCS', 'A2Z1R98M2XOCEJ', 'A2Z2MUP8JRJXEU', 'A2Z9S2RQD542CP', 'A2ZDY0V4Q1SZD7', 'A2ZFBTGPDP6PH6', 'A2ZFFSJ0VM6KSJ', 'A2ZR3YTMEEIIZ4', 'A2ZRG5NOFZ47RK', 'A2ZRMCRLDSUX6R', 'A2ZWJVKITA32OV', 'A2ZY3S7SD3QO8Z', 'A2ZY49IDE6TY5I', 'A303SNZ4AR7TDQ', 'A3077MQTAKOVFZ', 'A307Y3LMCVEZS1', 'A3094EPI56GKZ6', 'A30ADSBTWCORYC', 'A30C8WHQ2CYFO4', 'A30J7WQV0ZNRXG', 'A30JPZ9TZ7I61U', 'A30KPB2ILF6K6J', 'A30R8VFR16RE32', 'A30UP2KKD5IQEP', 'A30X750M8V1XXW', 'A30XZK10EZN9V4', 'A313H6238N589', 'A314KKDIJWCNMV', 'A316XO4RWX21YN', 'A31BD4RXCON7QO', 'A31HE83MU98GBV', 'A31HOWJKEIY037', 'A31ICLWQ9CSHRS', 'A31N0XY2UTB25C', 'A31RULW0KNYJ5H', 'A31RZMVAFMLB8B', 'A3223W5IROMYTY', 'A32482Z7XIKDQX', 'A324X7RVDAV3FT', 'A3284KYDZ00BZA', 'A328GLDSDNFYII', 'A328S9RN3U5M68', 'A32AFX2PUJ82HG', 'A32AK8FOAZEPE2', 'A32HSNCNPRUMTR', 'A32JCI4AK2JTTG', 'A32LX4XJ2LU740', 'A32NEDX6UVV8DE', 'A32O5FZH994CNY', 'A32O98PFC3OP7K', 'A32QOZWIKQDNZX', 'A32T2H8150OJLU', 'A33152QEGO2MZN', 'A335QXPTV1RIV1', 'A33775AIB1A664', 'A33CNFK776MTWR', 'A33GNK4YENACDJ', 'A33HIV8RXRDM88', 'A33PVCHCQ2BTN0', 'A33SX0AD5PYD9B', 'A33XMCG1UFDSY2', 'A33YZNZIRA3H97', 'A33ZYFE8XMKKR1', 'A34BZM6S9L7QI4', 'A34C9AFFZOI45T', 'A34CKIMZ969UW7', 'A34CSXOGVYF94S', 'A34DQINHT6NYJU', 'A34JKODTSKCGEN', 'A34LQ791ACZ0JC', 'A34UVV757IKPVB', 'A34VRVI4CSI5RQ', 'A353U0L2HAMSHV', 'A356RFKNIG043B', 'A357B3PUHSVQA', 'A359MYLPLEOF7N', 'A35A2RWUMC737N', 'A35C2IVVQR1HTK', 'A35HNL2VEDK9Z1', 'A35HOUWHAYZZN6', 'A35HUT8MQMT21L', 'A35IX2GE0VC0JP', 'A35KBAQ4VBNQ6L', 'A35OIWPVTGW3UC', 'A35Q0RBM3YNQNF', 'A35SNSDRNE9P8Q', 'A35W3JQYP0M655', 'A35X2JJI49OBZP', 'A361M14PU2GUEG', 'A361U4SXK7FCQE', 'A362FM6FYA1SYS', 'A3639Z6O5JBLIZ', 'A365PBEOWM7EI7', 'A368IPE6EW0GZL', 'A36A1ZYZH8568P', 'A36IHC0K68NS2', 'A36K2N527TXXJN', 'A36MP37DITBU6F', 'A370XYLIZCSK1Y', 'A376OJHLE6SU9Q', 'A3775OP5VTX5ON', 'A377LPVLLAI42D', 'A379DLIAF0MFM5', 'A37CEYB95LK6R6', 'A37D1ZP8GBHE38', 'A37IRE9GZ0CZ7I', 'A386LG0LRWKJZP', 'A3872Y2XH0YDX1', 'A38C12950IM24P', 'A38CHSS1ZAE51B', 'A38KK0SZYEH5UD', 'A38NELQT98S4H8', 'A38NHXL5257E3B', 'A38QEATH3NODFM', 'A38RMU1Y5TDP9', 'A38Z6QG6988WS7', 'A39137LW12KK7B', 'A3963R7EPE3A7E', 'A3977M5S0GIG5H', 'A39K52QDP4C3ZS', 'A3A15L96IYUO6V', 'A3A4ZAIBQWKOZS', 'A3AG5QAT8L0I3R', 'A3AGQAXTX6VRJ3', 'A3AVJCB1ZD6ZY5', 'A3AYSYSLHU26U9', 'A3AZI828WJN1CD', 'A3B20R4ZAH0Y2Y', 'A3BACUOZV1M0WM', 'A3BI8BKIHESDNQ', 'A3BKNXX8QFIXIV', 'A3BNMHRW2R35LK', 'A3BVN2QBNPBHCR', 'A3CEUT263RNUDO', 'A3CFU12GS5CZCN', 'A3CG93783LP0FO', 'A3CIET1UO3G51E', 'A3CJ7MHAS9IMAM', 'A3CJOB7CHOSZUG', 'A3CKI6VEH0HBMJ', 'A3CLWR1UUZT6TG', 'A3CMO216CWOF5N', 'A3CW0ZLUO5X2B1', 'A3D01HLSUFEZQY', 'A3D0UM4ZD2CMAW', 'A3D1TZH619NKHN', 'A3D2VIUT2HWP0Z', 'A3D5B2CBFNJB0K', 'A3D6OI36USYOU1', 'A3D7BGK0P5QY0X', 'A3D822N1K2IAQD', 'A3DGJMO6VPG6FJ', 'A3DL29NLZ7SXXG', 'A3DOPYDOS49I3T', 'A3DQWFWINN3V5A', 'A3DWO5RJDA430F', 'A3E049PVKG7NDK', 'A3E3EQ39FZTZEK', 'A3E68EBGXTWDNP', 'A3E9O1VNJ3U324', 'A3EFSLEMHNPP6A', 'A3EK2KTYHJCPB9', 'A3EM243NDJ4DF3', 'A3EPJSPH03AS29', 'A3EQQHWJ1EEYEU', 'A3ER6ARJ23CIN8', 'A3EWJX7W1X7E79', 'A3EXWV8FNSSFL6', 'A3EZEP0FX5BC1P', 'A3EZFFPVS34AMO', 'A3F3B1JPACN215', 'A3F3B6HY9RJI04', 'A3F7F7QKQP2FKT', 'A3F7USIDJBR8WU', 'A3F8T3BRXRX5P3', 'A3F9CBHV4OHFBS', 'A3F9CMU8KNAY1M', 'A3FBM0RMCMAABV', 'A3FEGTOLCWXSV4', 'A3FEJ8H2VTN0OJ', 'A3FFZQKCA7UOYY', 'A3FKQQTSMHOCE0', 'A3FOSLM5G1BO63', 'A3FPSY1M6G7XIB', 'A3FS3FJPD3RJTD', 'A3G007LQX6KGOD', 'A3G5MOHY1U635N', 'A3G7BEJJCPD6DS', 'A3GFQHHVMEAIO', 'A3GQY0TFRG0MPZ', 'A3GVXKCTFN3YDN', 'A3GX0FAMEXV6FB', 'A3H4S6YO9VNGDZ', 'A3H6NNGCINPLEC', 'A3HCMJOGRRSAF2', 'A3HPCRD9RX351S', 'A3HQAPXAJV7PRX', 'A3HR0ZZOFKQ97N', 'A3HRDRQ5VAFPQS', 'A3HSDV9Y0TV5Z2', 'A3HXGSMCIOZEW8', 'A3IJ4Z18FTIIP', 'A3IJL9A50KVVZ1', 'A3IK2VCQ007CJ', 'A3IMALU0RM8UT9', 'A3INN916E4VION', 'A3IOQ7NVVLAUEE', 'A3IRA0BHI9NE9U', 'A3IUW081KXD3PE', 'A3IY316DRNF5F2', 'A3J029KBNG5MNP', 'A3J2YU2D9BH2J7', 'A3J3ZHGDUDPCFL', 'A3J6Q0Y0SKY7AR', 'A3J8A5L5AF5TX9', 'A3JLOIXFM75QNV', 'A3JNBO7H2SPL44', 'A3JU16JTNLVK1J', 'A3JU990UTN5RQP', 'A3JUHP1E3WUHEA', 'A3JV071KO43Q5X', 'A3K91X9X2ARDOK', 'A3KCETSIJNOK56', 'A3KCKECEO3E2AN', 'A3KNGMX2RVQG91', 'A3KZ7OH4VRL048', 'A3KZEGBTPH6MMF', 'A3L1VJMHFWONCB', 'A3L6L5O89JTX2T', 'A3L9E0YI7C5G0W', 'A3LDFTSXU3UPBO', 'A3LDLV1GWQJLEQ', 'A3LDPF5FMB782Z', 'A3LGT6UZL99IW1', 'A3LPL35P7FH78Y', 'A3LQUEB84IR3VO', 'A3LWC833HQIG7J', 'A3LZA698SQPCXE', 'A3M7BCQKSQAK4L', 'A3M7R4PD0FEPUB', 'A3M82NO6OU1FHS', 'A3MFORLOKIOEQY', 'A3MMR2WDKAK0PA', 'A3MQ15651KGVLJ', 'A3MQAQT8C6D1I7', 'A3MU9G6YWKTGTA', 'A3MUSWDCTZINQZ', 'A3MV1KKHX51FYT', 'A3N0P5AAMP6XD2', 'A3N4I2KRSMACW8', 'A3N4VTNFPMTHEF', 'A3N8O68DOEQ2FE', 'A3NCIN6TNL0MGA', 'A3NEAETOSXDBOM', 'A3NG7X4APIV649', 'A3NGOG8Z78AZSD', 'A3NHUQ33CFH3VM', 'A3NKRH3TJ4DPVI', 'A3NOBH42C7UI5M', 'A3NVZTGPORNPRW', 'A3NXJDNTQK2YJL', 'A3NYBI5VMVEEIK', 'A3O1FVLUD9X1XC', 'A3O4OIBCML0683', 'A3O5ASFUXC32UA', 'A3OA4DV4L81N1D', 'A3OIMUR42XIOFQ', 'A3OXHLG6DIBRW8', 'A3OYO7B6SS7QLH', 'A3OZA8HNJM26DC', 'A3P1508PZ0UADD', 'A3P4T1DKRWTL36', 'A3P69DTOXII004', 'A3PCEB9ND82AGE', 'A3PD8JD9L4WEII', 'A3PDWA32BAMB2Y', 'A3PGVJF37JSHFO', 'A3PJJTAKISAFI9', 'A3PPO2X5PJE1L9', 'A3PU3EDJ2FG1AW', 'A3Q1J68QY1MZQ9', 'A3Q4TYJVAM4IRM', 'A3Q6ZPW60CVF2L', 'A3QAO3QBCQF89T', 'A3QDMDSANPYGUX', 'A3QDY9I0CNMD2W', 'A3QJU4FEN8PQSZ', 'A3QKIR8J56EUI1', 'A3QMJMTLJC34QC', 'A3QNQQKJTL76H0', 'A3QNX5KWHDV0GD', 'A3QQCEQ33O0GJU', 'A3QQGPI3CTV9SX', 'A3QRR8PSCBI07C', 'A3QRW0UJPKIAX7', 'A3QU3O79AGNWCY', 'A3QUDXLOJTKEP9', 'A3QX0ERX4D03TF', 'A3R19YKNL641X3', 'A3R1GJY2MY8041', 'A3R1WFO4KIUQXZ', 'A3R33KMESG0XGQ', 'A3R4794K2RVU1S', 'A3REK3OFONWB1Q', 'A3RGHO0Q938FRS', 'A3RGJ1FXOB1ZLL', 'A3RMEU4GNP60BM', 'A3RR2P5IS3DGPR', 'A3S0DBBR693O06', 'A3S0EHEIR52HP1', 'A3S3R88HA0HZG3', 'A3S3VSXEFXBMRC', 'A3S5EXYZDEBF3K', 'A3S5WYWYKSAI9C', 'A3SDJ70H00OQCJ', 'A3SL0HA6422W4M', 'A3SMD3T0QTN109', 'A3SOJO7Z7R9WIA', 'A3SQCTNYQFVBWM', 'A3SRDVCD2ATIIS', 'A3SU7JSTPH9CC9', 'A3SVYWA9O1KUQV', 'A3SX5MZTCZRQLF', 'A3T4OHEAHOJ700', 'A3T7V207KRDE2O', 'A3T8WOFS5RD2IR', 'A3TA1UJWRJF9NC', 'A3TAS1AG6FMBQW', 'A3TBMAWIIHKHFN', 'A3TBMGNSEQBWIL', 'A3TCMJ6GKZJFBQ', 'A3TNM3C9ENUCFW', 'A3TP31S61PPE3G', 'A3TPNC3TKGCCEI', 'A3TR3KLL5PXSZ8', 'A3TRY87JJCA5Y8', 'A3U029B8Z5WGI2', 'A3U41ZL33SS92P', 'A3U5HKDHPYBAK3', 'A3U6J0DLLDEWM2', 'A3UKWQS8SRW6IO', 'A3UQSOJW51UU9T', 'A3UR2N0ATGBCU8', 'A3UW23DBF2KHWC', 'A3UXW18DP4WSD6', 'A3V0YR50F1XSKP', 'A3V15SFD7918WZ', 'A3V2EZ6MA32FF6', 'A3V5F050GVZ56Q', 'A3V6QSTG2T9MIO', 'A3V6Z4RCDGRC44', 'A3V7D0LH8L7BG0', 'A3V8P0O224OBDB', 'A3VBXQKRM7A4JR', 'A3VBZDYGHF4NK8', 'A3VC74TJ06WDDD', 'A3VI2VETB90ZG5', 'A3VL4RXCWNSR3H', 'A3VONQL7YW8UPM', 'A3VTOLNB5N6FVP', 'A3VVMIMMTYQV5F', 'A3W4D8XOGLWUN5', 'A4D5B7Q8A7PA6', 'A4GGT6O0GQNV2', 'A4GHPW9AAH1NY', 'A4H4KYSM2KQ85', 'A4IEUHNRFZO0', 'A4IL0CLL27Q33', 'A4S2WAQVQR6PI', 'A4U27URFECK1U', 'A4UGMKUSX9XHI', 'A4WEZJOIZIV4U', 'A506HOOCVL8GW', 'A51OFQVC6O5YL', 'A54S9CIUV5VNB', 'A54SG05AV6S4H', 'A57Q87B0TC9IJ', 'A5A4374R8I7NB', 'A5CDMTW6JKV5G', 'A5GPH59NDWJRB', 'A5JLAU2ARJ0BO', 'A5KMMY627T3W', 'A5MCDQ60DWUEV', 'A5Q1FK0FWU7DH', 'A5QDZEOIMQ4LW', 'A64LEAZ2QF8L2', 'A680RUE1FDO8B', 'A6FIAB28IS79', 'A6KL17KKN0A5L', 'A6TBR6L2D4XKC', 'A6VPK7X53QNAQ', 'A6VXZ1EEPRTLV', 'A6XDZ1MJ0B1A2', 'A6XLG77BC9R8R', 'A74UT8IQCM0I2', 'A781ITP3HE2N5', 'A7EJERNB7IK3Z', 'A7EU2BWLLCJY2', 'A7FDGFK0KN7QG', 'A7KBAXO177NND', 'A7QMQBGJ2TCQG', 'A7UPJYPAH73NC', 'A7Y6AVS576M03', 'A84FLVDK2R5JF', 'A87CILADRIZW0', 'A87N6UTYA6NOB', 'A8CKH8XB33XGN', 'A8FKL1DHTHC12', 'A8P6GIIQ6YQV8', 'A8WEXFRWX1ZHH', 'A8X478DM3KAWM', 'A8X8D4BUY5DFU', 'A96JD9312DHWC', 'A9BWUH9XKZ2DQ', 'A9DYWY9VOSP1P', 'A9ELHLPXF7JKD', 'A9J4UURM4OSDW', 'A9LNWA25IM2DX', 'A9Y5O2R4D6EH5', 'AA3FTJYJYX55C', 'AA91O96C1Z18W', 'AA95DWUI3ODU', 'AAA0TUKS5VBSA', 'AAEVGE52KL0DJ', 'AAK6SOEJY30YG', 'AAQ9NJ480N9W5', 'AAR7CEPXYJA0T', 'AATWFX0ZZSE6C', 'AAW7X3GRD8GY9', 'AAXAKFQEAQPWC', 'AB094YABX21WQ', 'ABAPF3XY1W6JX', 'ABDR6IJ93HFIO', 'ABE5E8B3J7MKY', 'ABH9D1TEOJ56E', 'ABIVKBMSIPEDY', 'ABMF4UC4Z00NT', 'ABMN74TBW5UWE', 'ABMNX856X89CS', 'ABQWMANK4AR63', 'ABSYIF0ONC2AF', 'ABUE0ALHKWKHC', 'ABVYGB2TKBO8F', 'ABXANRX4GPYRZ', 'AC1YLEFC9AN5X', 'AC6Z7DP1Z5GHD', 'AC9QEWWN4W9MC', 'ACHTDPEQYSEQL', 'ACJT8MUC0LRF0', 'ACP9S40H3SHY1', 'ACQYIC13JXAOI', 'ACSX5AIZE3MJ9', 'ACY9QYNDFLVBI', 'ACYZXQ2JKPZKT', 'AD0J5KK4WQXNS', 'AD8DLOGHAXL', 'AD9ZL63H0VKCZ', 'ADHA1W879JNT0', 'ADKGE078JK8K7', 'ADKZOXAOV8EXD', 'ADLVFFE4VBT8', 'ADOR3TR7GDF68', 'ADPKRJ2BSFJ0I', 'ADZF3QDGSZE7K', 'AE88D7OM7YU99', 'AEAFHD09X8044', 'AEFTIUQHSVUFX', 'AEIB3UR05OP7A', 'AEJAGHLC675A7', 'AEL6CQNQXONBX', 'AELK0E5DK7LIZ', 'AEN44U6T9R93', 'AENULRBQ2IE5I', 'AETQIN7OH0RL9', 'AEWYUPCNDV7HY', 'AEZJTA4KDIWY8', 'AFFVUZEGP1FDQ', 'AFH97KY1SBP2C', 'AFHYEO3Y1IIDD', 'AFICF7DKHTQ87', 'AFM2J3HJNPIHV', 'AFNG8O2DXRCUV', 'AFQBS241UKPAZ', 'AFR9GYKAHM37U', 'AFXTKAO0CB354', 'AG0PM9IAHQ06C', 'AG2YXYIQ8TLTA', 'AG35JCCQWDRCS', 'AG5WSXI52FPKH', 'AG6TX1ZJHLMO7', 'AG7EF0SVBQOUX', 'AG8YP2XTC5X1I', 'AGATRDOFW48DK', 'AGEKVD8JPZQMT', 'AGEWOMQ90BV8R', 'AGFSSC5DBY2HU', 'AGGAQLXPVGM5D', 'AGHZXQL9F94T9', 'AGILRZOT49R0V', 'AGJRUK27RBVYS', 'AGLT3L7ALL4O4', 'AGOH8N902URMW', 'AGR1V15L6FLMA', 'AGVWTYW0ULXHT', 'AGX2K0FMS0IVL', 'AGXMC3ITWZASE', 'AGXV8E7XK9J6H', 'AGYH5U11ZKPFB', 'AH3LF9RAD1O2V', 'AH5BCMZELZSKG', 'AHD3NZHDUZ5I6', 'AHF4I1FSIHABC', 'AHIK7BUXFRMT8', 'AHNHLGKIZ2N3B', 'AHQRU3MRORIWQ', 'AHR86ZEYETLJI', 'AHROSV6WJOEGY', 'AHS6PX6H22WW1', 'AI0BCEWRE04G0', 'AI2AOCTC8BQVZ', 'AI8EMB0HUC6Z5', 'AIBRTGBN07D6A', 'AIFLY2HF8NS8U', 'AIJQU979J6UFY', 'AJCR7L4AXL2OG', 'AJEOFP6ZWY0MK', 'AJL3U764D7NI3', 'AJX9A4Q19UTJU', 'AK3GKIV8DEY8B', 'AK9BXHEXOOM6Z', 'AKBVYIIHWI04B', 'AKCZIJ6ZHE41D', 'AKSFZ4G1AXYFC', 'AKSQNMIKOU01H', 'AKT8TGIT6VVZ5', 'AKX9EQ37PAYMY', 'AL1XV4L25FZ2S', 'AL42PIIG5DXYD', 'AL5CUWBFBMWYQ', 'AL9WKVMRI6GFB', 'ALDAF4VVLFRHP', 'ALHC64J88LVWO', 'ALNE7Q71JFC0F', 'ALQ4USPEQ9L5N', 'ALRCAGJOJ9583', 'ALUNVOQRXOZIA', 'AM0QLU79O05JR', 'AM3XNQU9TZBD8', 'AM8W6Y3HVXLZT', 'AM9APPMIE1BHZ', 'AMFXXAOVV4CPJ', 'AMKNPIDFLRFMP', 'AMRMK86X3PKXD', 'AMS2CPERWN7JV', 'AMUP8DYE7EAN2', 'AMVXR3NPL0GWX', 'AMWL7XIWIPXEZ', 'AMZCZBK1EF1PV', 'AN0JK8OQLUC55', 'AN2IZT80ZUNJN', 'AN81JUYW2SL24', 'AN9CP6J4JF91X', 'AN9WA4C5E7YY5', 'ANFJYYQ0P35CW', 'ANRS196NKFVUU', 'ANSVB7OYSXZSL', 'ANTGGAQYPSWHF', 'ANTN61S4L7WG9', 'ANW6EGY12V5XS', 'ANXEW7IDYDJEH', 'ANYC38I00IRVK', 'AO09RWV40IX78', 'AO2EURP2Y4JZM', 'AO8NH0BV82XIE', 'AOEAD7DPLZE53', 'AOEDWQLH2WKKW', 'AOJA1LC8PN7K1', 'AOMEH9W6LHC4S', 'AONUCJBC85BL', 'AOVTLYTHVDNUX', 'AOWF9T81XMX2S', 'AP2NZAALUQKF5', 'AP53MVRC8ZEW2', 'APBB297H3ZA5E', 'APBDZ88BBTN4F', 'APG2BHOAXPNEQ', 'APGQTZZ4ZFPHO', 'APMYPD97EHUUZ', 'APOGXH3A74CM3', 'APQQK1V695AUE', 'AQ2FC1DLKVD8H', 'AQ3IN3MRXQ5KH', 'AQ55H30MZSV0Q', 'AQB4DH57MSZSC', 'AQCJWSMSURQI2', 'AQIJ3ZEEVCIKU', 'AQM0K7MBBT4AY', 'AQNSQW4495SG0', 'AQR4HPVSOPS08', 'AQSV34W54L0VO', 'AR18DH5SL9F73', 'AR1T36GLLAFFX', 'AR3EVUQF0AC7R', 'AR6APXLK7TJU2', 'AR74YY08IP2WE', 'AR8LWDT6TUKNZ', 'ARBKYIVNYWK3C', 'ARC5ASW9CUAGP', 'ARIDN94LOCQFD', 'AROQO2VDODT7', 'ARTA78TP6H73D', 'ARW8VGT10JG60', 'ARX0KOX5Q01BJ', 'ARX7Z3NI6O0F7', 'ARXU3FESTWMJJ', 'AS269J1OGZT1V', 'AS2II0671KT2C', 'AS7J4952JB5XR', 'AS8C336DDLSO4', 'ASCBJEPXTOU0V', 'ASF3J4UYV34KA', 'ASFP250F22MDZ', 'ASFW4ZMNZJKDA', 'ASHJAZC9OA9NS', 'ASJLXOX1VD4DF', 'ASJSX783R5HTZ', 'ASJZT7DM51QEM', 'ASRA2UZ3JV87B', 'AT09WGFUM934H', 'AT28RL25Q2OLK', 'AT2J7H5TRZM8Z', 'AT53ZTTO707MB', 'AT6CZDCP4TRGA', 'AT8V3JOZD3KWK', 'ATDE9JYCPI0L1', 'ATDQ9CGCWTT8D', 'ATFBVUXDIRXT6', 'ATMQEI1LKR6VB', 'ATNOI7E8GTIVE', 'ATOKT8QYK967L', 'ATS2855497V0I', 'ATZJNEXX7LWD3', 'AU2UJF4I7KAWL', 'AU3GYRAKBUAEU', 'AU627A4UGIW6V', 'AUBEFRFHJR64Y', 'AUCIFMWP3DU8R', 'AUCISQA1YXX86', 'AUITG1DJ3QUGK', 'AUK79PXTAOJP9', 'AUUV3XDYB16X5', 'AV10H5K6VPQIJ', 'AV8MDYLHHTUOY', 'AV9PIER7NE448', 'AVBLGXSWRN666', 'AVFJ327UXPXLF', 'AVJORH3ACR2A5', 'AVPNQUVZWMDSX', 'AVSMRPI23DQI2', 'AVTJEWTCJ3PBE', 'AVU1ILDDYW301', 'AW3LX47IHPFRL', 'AW5JSQCHC2ZJO', 'AW63IRQWH10GF', 'AW68KVDV7BBRS', 'AW6A4PPENVZY3', 'AW6FQE5QRF2LM', 'AW6J9IILGOZY3', 'AWH2AY17ZU7W2', 'AWHL379EE14K7', 'AWJWCKB92RJX2', 'AWNBZSEZ9P8BE', 'AWNJAY0M5UI70', 'AWPN47SSWK1JV', 'AWPODHOB4GFWL', 'AWSK1ZAEU1KFL', 'AWZR0O65DL2Q', 'AX05DBU8IRUWY', 'AX7317G153T8W', 'AXP8GO5Q3AXSA', 'AXR3CV6A4FMBG', 'AXU3VKZE848IY', 'AXYM52DNK6NDF', 'AY3D7DG5L5WCK', 'AY3XPKRAMKKY7', 'AY6A8KPYCE6B0', 'AYB4ELCS5AM8P', 'AYCAIHABPYWVJ', 'AYGEKID3G7DPW', 'AYLLSFYS3UP1H', 'AYMD77ITD15PT', 'AYNAH993VDECT', 'AYO1146CBIV5C', 'AYOMAHLWRQHUG', 'AYOTEJ617O60K', 'AYP0YPLSP9ISM', 'AZ515FFZ7I2P7', 'AZ8XSDMIX04VJ', 'AZAC8O310IK4E', 'AZBXKUH4AIW3X', 'AZCE11PSTCH1L', 'AZMY6E8B52L2T', 'AZNUHQSHZHSUE', 'AZOK5STV85FBJ']\n"
     ]
    }
   ],
   "source": [
    "#Store all userId that have rated +50 product to a new variable in form of list so that it can be compared later on with original data\n",
    "\n",
    "l=k['userId']\n",
    "l=list(l)\n",
    "print(l)"
   ]
  },
  {
   "cell_type": "code",
   "execution_count": 21,
   "metadata": {},
   "outputs": [
    {
     "data": {
      "text/plain": [
       "1466"
      ]
     },
     "execution_count": 21,
     "metadata": {},
     "output_type": "execute_result"
    }
   ],
   "source": [
    "len(l) #It is same as pervious. This is just a cross check step"
   ]
  },
  {
   "cell_type": "raw",
   "metadata": {},
   "source": [
    "df1=df1[df1['productId']==l]"
   ]
  },
  {
   "cell_type": "raw",
   "metadata": {},
   "source": [
    "df2=df1.where(df1['productId'].values==l)"
   ]
  },
  {
   "cell_type": "raw",
   "metadata": {},
   "source": [
    "#df2=df1[df1['productId'].isin(l)]\n",
    "#df2=df1[df1['userId'].isin(l)]"
   ]
  },
  {
   "cell_type": "code",
   "execution_count": 22,
   "metadata": {},
   "outputs": [],
   "source": [
    "df2=df1  #To store in new variable so that orignal Dats doesnot change"
   ]
  },
  {
   "cell_type": "code",
   "execution_count": 23,
   "metadata": {},
   "outputs": [
    {
     "data": {
      "text/html": [
       "<div>\n",
       "<style scoped>\n",
       "    .dataframe tbody tr th:only-of-type {\n",
       "        vertical-align: middle;\n",
       "    }\n",
       "\n",
       "    .dataframe tbody tr th {\n",
       "        vertical-align: top;\n",
       "    }\n",
       "\n",
       "    .dataframe thead th {\n",
       "        text-align: right;\n",
       "    }\n",
       "</style>\n",
       "<table border=\"1\" class=\"dataframe\">\n",
       "  <thead>\n",
       "    <tr style=\"text-align: right;\">\n",
       "      <th></th>\n",
       "      <th>userId</th>\n",
       "      <th>productId</th>\n",
       "      <th>Rating</th>\n",
       "    </tr>\n",
       "  </thead>\n",
       "  <tbody>\n",
       "    <tr>\n",
       "      <td>0</td>\n",
       "      <td>AKM1MP6P0OYPR</td>\n",
       "      <td>0132793040</td>\n",
       "      <td>5.0</td>\n",
       "    </tr>\n",
       "    <tr>\n",
       "      <td>1</td>\n",
       "      <td>A2CX7LUOHB2NDG</td>\n",
       "      <td>0321732944</td>\n",
       "      <td>5.0</td>\n",
       "    </tr>\n",
       "    <tr>\n",
       "      <td>2</td>\n",
       "      <td>A2NWSAGRHCP8N5</td>\n",
       "      <td>0439886341</td>\n",
       "      <td>1.0</td>\n",
       "    </tr>\n",
       "    <tr>\n",
       "      <td>3</td>\n",
       "      <td>A2WNBOD3WNDNKT</td>\n",
       "      <td>0439886341</td>\n",
       "      <td>3.0</td>\n",
       "    </tr>\n",
       "    <tr>\n",
       "      <td>4</td>\n",
       "      <td>A1GI0U4ZRJA8WN</td>\n",
       "      <td>0439886341</td>\n",
       "      <td>1.0</td>\n",
       "    </tr>\n",
       "  </tbody>\n",
       "</table>\n",
       "</div>"
      ],
      "text/plain": [
       "           userId   productId  Rating\n",
       "0   AKM1MP6P0OYPR  0132793040     5.0\n",
       "1  A2CX7LUOHB2NDG  0321732944     5.0\n",
       "2  A2NWSAGRHCP8N5  0439886341     1.0\n",
       "3  A2WNBOD3WNDNKT  0439886341     3.0\n",
       "4  A1GI0U4ZRJA8WN  0439886341     1.0"
      ]
     },
     "execution_count": 23,
     "metadata": {},
     "output_type": "execute_result"
    }
   ],
   "source": [
    "\n",
    "df2.head() #To check if data is loaded properly"
   ]
  },
  {
   "cell_type": "code",
   "execution_count": 24,
   "metadata": {},
   "outputs": [
    {
     "name": "stdout",
     "output_type": "stream",
     "text": [
      "             userId   productId  Rating\n",
      "118   AT09WGFUM934H  0594481813     3.0\n",
      "177  A32HSNCNPRUMTR  0970407998     1.0\n",
      "178  A17HMM1M7T9PJ1  0970407998     4.0\n",
      "492  A3CLWR1UUZT6TG  0972683275     5.0\n",
      "631  A3TAS1AG6FMBQW  0972683275     5.0\n"
     ]
    }
   ],
   "source": [
    "#Compare list l with a copy of orignal data\n",
    "\n",
    "#df2=df2[df2.productId.isin(l)]\n",
    "#print(df2.head())\n",
    "\n",
    "df2=df2[df2.userId.isin(l)]\n",
    "print(df2.head())"
   ]
  },
  {
   "cell_type": "code",
   "execution_count": 25,
   "metadata": {},
   "outputs": [
    {
     "data": {
      "text/plain": [
       "(1466, 2)"
      ]
     },
     "execution_count": 25,
     "metadata": {},
     "output_type": "execute_result"
    }
   ],
   "source": [
    "#This is just a cross check step\n",
    "\n",
    "#df2.groupby('productId').count().shape\n",
    "df2.groupby('userId').count().shape"
   ]
  },
  {
   "cell_type": "code",
   "execution_count": 26,
   "metadata": {},
   "outputs": [],
   "source": [
    "#As we have user id as index Thus changing index it to a number \n",
    "df2=df2.reset_index()"
   ]
  },
  {
   "cell_type": "code",
   "execution_count": 27,
   "metadata": {},
   "outputs": [
    {
     "data": {
      "text/html": [
       "<div>\n",
       "<style scoped>\n",
       "    .dataframe tbody tr th:only-of-type {\n",
       "        vertical-align: middle;\n",
       "    }\n",
       "\n",
       "    .dataframe tbody tr th {\n",
       "        vertical-align: top;\n",
       "    }\n",
       "\n",
       "    .dataframe thead th {\n",
       "        text-align: right;\n",
       "    }\n",
       "</style>\n",
       "<table border=\"1\" class=\"dataframe\">\n",
       "  <thead>\n",
       "    <tr style=\"text-align: right;\">\n",
       "      <th></th>\n",
       "      <th>index</th>\n",
       "      <th>userId</th>\n",
       "      <th>productId</th>\n",
       "      <th>Rating</th>\n",
       "    </tr>\n",
       "  </thead>\n",
       "  <tbody>\n",
       "    <tr>\n",
       "      <td>0</td>\n",
       "      <td>118</td>\n",
       "      <td>AT09WGFUM934H</td>\n",
       "      <td>0594481813</td>\n",
       "      <td>3.0</td>\n",
       "    </tr>\n",
       "    <tr>\n",
       "      <td>1</td>\n",
       "      <td>177</td>\n",
       "      <td>A32HSNCNPRUMTR</td>\n",
       "      <td>0970407998</td>\n",
       "      <td>1.0</td>\n",
       "    </tr>\n",
       "    <tr>\n",
       "      <td>2</td>\n",
       "      <td>178</td>\n",
       "      <td>A17HMM1M7T9PJ1</td>\n",
       "      <td>0970407998</td>\n",
       "      <td>4.0</td>\n",
       "    </tr>\n",
       "    <tr>\n",
       "      <td>3</td>\n",
       "      <td>492</td>\n",
       "      <td>A3CLWR1UUZT6TG</td>\n",
       "      <td>0972683275</td>\n",
       "      <td>5.0</td>\n",
       "    </tr>\n",
       "    <tr>\n",
       "      <td>4</td>\n",
       "      <td>631</td>\n",
       "      <td>A3TAS1AG6FMBQW</td>\n",
       "      <td>0972683275</td>\n",
       "      <td>5.0</td>\n",
       "    </tr>\n",
       "  </tbody>\n",
       "</table>\n",
       "</div>"
      ],
      "text/plain": [
       "   index          userId   productId  Rating\n",
       "0    118   AT09WGFUM934H  0594481813     3.0\n",
       "1    177  A32HSNCNPRUMTR  0970407998     1.0\n",
       "2    178  A17HMM1M7T9PJ1  0970407998     4.0\n",
       "3    492  A3CLWR1UUZT6TG  0972683275     5.0\n",
       "4    631  A3TAS1AG6FMBQW  0972683275     5.0"
      ]
     },
     "execution_count": 27,
     "metadata": {},
     "output_type": "execute_result"
    }
   ],
   "source": [
    "df2.head() #Cross check step\n",
    "\n",
    "#here we need to drop index column"
   ]
  },
  {
   "cell_type": "code",
   "execution_count": 28,
   "metadata": {},
   "outputs": [],
   "source": [
    "df2=df2.drop('index',axis=1)"
   ]
  },
  {
   "cell_type": "code",
   "execution_count": 29,
   "metadata": {},
   "outputs": [
    {
     "data": {
      "text/html": [
       "<div>\n",
       "<style scoped>\n",
       "    .dataframe tbody tr th:only-of-type {\n",
       "        vertical-align: middle;\n",
       "    }\n",
       "\n",
       "    .dataframe tbody tr th {\n",
       "        vertical-align: top;\n",
       "    }\n",
       "\n",
       "    .dataframe thead th {\n",
       "        text-align: right;\n",
       "    }\n",
       "</style>\n",
       "<table border=\"1\" class=\"dataframe\">\n",
       "  <thead>\n",
       "    <tr style=\"text-align: right;\">\n",
       "      <th></th>\n",
       "      <th>userId</th>\n",
       "      <th>productId</th>\n",
       "      <th>Rating</th>\n",
       "    </tr>\n",
       "  </thead>\n",
       "  <tbody>\n",
       "    <tr>\n",
       "      <td>0</td>\n",
       "      <td>AT09WGFUM934H</td>\n",
       "      <td>0594481813</td>\n",
       "      <td>3.0</td>\n",
       "    </tr>\n",
       "    <tr>\n",
       "      <td>1</td>\n",
       "      <td>A32HSNCNPRUMTR</td>\n",
       "      <td>0970407998</td>\n",
       "      <td>1.0</td>\n",
       "    </tr>\n",
       "    <tr>\n",
       "      <td>2</td>\n",
       "      <td>A17HMM1M7T9PJ1</td>\n",
       "      <td>0970407998</td>\n",
       "      <td>4.0</td>\n",
       "    </tr>\n",
       "    <tr>\n",
       "      <td>3</td>\n",
       "      <td>A3CLWR1UUZT6TG</td>\n",
       "      <td>0972683275</td>\n",
       "      <td>5.0</td>\n",
       "    </tr>\n",
       "    <tr>\n",
       "      <td>4</td>\n",
       "      <td>A3TAS1AG6FMBQW</td>\n",
       "      <td>0972683275</td>\n",
       "      <td>5.0</td>\n",
       "    </tr>\n",
       "  </tbody>\n",
       "</table>\n",
       "</div>"
      ],
      "text/plain": [
       "           userId   productId  Rating\n",
       "0   AT09WGFUM934H  0594481813     3.0\n",
       "1  A32HSNCNPRUMTR  0970407998     1.0\n",
       "2  A17HMM1M7T9PJ1  0970407998     4.0\n",
       "3  A3CLWR1UUZT6TG  0972683275     5.0\n",
       "4  A3TAS1AG6FMBQW  0972683275     5.0"
      ]
     },
     "execution_count": 29,
     "metadata": {},
     "output_type": "execute_result"
    }
   ],
   "source": [
    "df2.head()  #Cross check step"
   ]
  },
  {
   "cell_type": "code",
   "execution_count": 30,
   "metadata": {},
   "outputs": [
    {
     "data": {
      "text/plain": [
       "(122171, 3)"
      ]
     },
     "execution_count": 30,
     "metadata": {},
     "output_type": "execute_result"
    }
   ],
   "source": [
    "df2.shape\n",
    "\n",
    "#This(shape) shows data has largely reduced"
   ]
  },
  {
   "cell_type": "code",
   "execution_count": 31,
   "metadata": {},
   "outputs": [],
   "source": [
    "#SAVE THIS REDUCED DATA TO NEW CSV FILE SO THAT IT CAN BE USED IN RECOMMENDATION SYSTEM NOTEBOOK\n",
    "\n",
    "df2.to_csv('short_data2.csv')"
   ]
  },
  {
   "cell_type": "markdown",
   "metadata": {},
   "source": [
    "***After performing various steps the data has largely reduced.***"
   ]
  },
  {
   "cell_type": "code",
   "execution_count": null,
   "metadata": {},
   "outputs": [],
   "source": []
  },
  {
   "cell_type": "markdown",
   "metadata": {},
   "source": [
    "## Explore data on reduced data\n",
    "\n",
    "This is done to see how much change has occured in new data. These are the same steps done above"
   ]
  },
  {
   "cell_type": "code",
   "execution_count": 32,
   "metadata": {},
   "outputs": [
    {
     "data": {
      "text/plain": [
       "userId        object\n",
       "productId     object\n",
       "Rating       float64\n",
       "dtype: object"
      ]
     },
     "execution_count": 32,
     "metadata": {},
     "output_type": "execute_result"
    }
   ],
   "source": [
    "#To see datatype of columns in new data\n",
    "df2.dtypes\n"
   ]
  },
  {
   "cell_type": "code",
   "execution_count": 33,
   "metadata": {},
   "outputs": [
    {
     "data": {
      "text/html": [
       "<div>\n",
       "<style scoped>\n",
       "    .dataframe tbody tr th:only-of-type {\n",
       "        vertical-align: middle;\n",
       "    }\n",
       "\n",
       "    .dataframe tbody tr th {\n",
       "        vertical-align: top;\n",
       "    }\n",
       "\n",
       "    .dataframe thead th {\n",
       "        text-align: right;\n",
       "    }\n",
       "</style>\n",
       "<table border=\"1\" class=\"dataframe\">\n",
       "  <thead>\n",
       "    <tr style=\"text-align: right;\">\n",
       "      <th></th>\n",
       "      <th>count</th>\n",
       "      <th>mean</th>\n",
       "      <th>std</th>\n",
       "      <th>min</th>\n",
       "      <th>25%</th>\n",
       "      <th>50%</th>\n",
       "      <th>75%</th>\n",
       "      <th>max</th>\n",
       "    </tr>\n",
       "  </thead>\n",
       "  <tbody>\n",
       "    <tr>\n",
       "      <td>Rating</td>\n",
       "      <td>122171.0</td>\n",
       "      <td>4.262616</td>\n",
       "      <td>1.058826</td>\n",
       "      <td>1.0</td>\n",
       "      <td>4.0</td>\n",
       "      <td>5.0</td>\n",
       "      <td>5.0</td>\n",
       "      <td>5.0</td>\n",
       "    </tr>\n",
       "  </tbody>\n",
       "</table>\n",
       "</div>"
      ],
      "text/plain": [
       "           count      mean       std  min  25%  50%  75%  max\n",
       "Rating  122171.0  4.262616  1.058826  1.0  4.0  5.0  5.0  5.0"
      ]
     },
     "execution_count": 33,
     "metadata": {},
     "output_type": "execute_result"
    }
   ],
   "source": [
    "# Summary statistics of 'rating' variable\n",
    "df2.describe().T\n",
    "\n",
    "#AS other columns i.e userId and productId are object they wont be shown in describe \n",
    "#Here data has left side skew with long tail in left side\n",
    "#As this is recommendaton system his information is not that much of help"
   ]
  },
  {
   "cell_type": "code",
   "execution_count": 34,
   "metadata": {},
   "outputs": [
    {
     "name": "stdout",
     "output_type": "stream",
     "text": [
      "The minimum rating is: 1\n",
      "The maximum rating is: 5\n"
     ]
    }
   ],
   "source": [
    "# find minimum and maximum ratings\n",
    "print('The minimum rating is: %d' %(df2['Rating'].min()))\n",
    "print('The maximum rating is: %d' %(df2['Rating'].max()))"
   ]
  },
  {
   "cell_type": "code",
   "execution_count": 35,
   "metadata": {},
   "outputs": [
    {
     "data": {
      "image/png": "[encoded data removed]",
      "text/plain": [
       "<Figure size 720x360 with 1 Axes>"
      ]
     },
     "metadata": {},
     "output_type": "display_data"
    }
   ],
   "source": [
    "# Check the distribution of ratings columns in new data\n",
    "with sns.axes_style('white'):\n",
    "    g = sns.factorplot(\"Rating\", data=df2, aspect=2.0,kind='count')\n",
    "    g.set_ylabels(\"Total number of ratings\") \n",
    "    \n",
    "#As you can see the data is largely reduced people rating have changed people have rated 5 then 4 then 3 then 2 and 1\n",
    "#Previously it was 5>4>1>3>2\n",
    "#Also total number of ratings have largely reduced toofor each rating."
   ]
  },
  {
   "cell_type": "code",
   "execution_count": 36,
   "metadata": {},
   "outputs": [
    {
     "name": "stdout",
     "output_type": "stream",
     "text": [
      "Number of unique USERS in Raw data =  1466\n",
      "Number of unique ITEMS in Raw data =  47155\n"
     ]
    }
   ],
   "source": [
    "# Number of unique user id and product id in the new data\n",
    "print('Number of unique USERS in Raw data = ', df2['userId'].nunique())\n",
    "print('Number of unique ITEMS in Raw data = ', df2['productId'].nunique())\n",
    "\n",
    "#Both decreased to a large extent"
   ]
  },
  {
   "cell_type": "code",
   "execution_count": null,
   "metadata": {},
   "outputs": [],
   "source": []
  }
 ],
 "metadata": {
  "kernelspec": {
   "display_name": "Python 3",
   "language": "python",
   "name": "python3"
  },
  "language_info": {
   "codemirror_mode": {
    "name": "ipython",
    "version": 3
   },
   "file_extension": ".py",
   "mimetype": "text/x-python",
   "name": "python",
   "nbconvert_exporter": "python",
   "pygments_lexer": "ipython3",
   "version": "3.7.4"
  }
 },
 "nbformat": 4,
 "nbformat_minor": 2
}
